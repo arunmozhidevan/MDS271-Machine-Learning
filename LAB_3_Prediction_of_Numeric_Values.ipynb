{
  "nbformat": 4,
  "nbformat_minor": 0,
  "metadata": {
    "colab": {
      "name": "LAB 3 - Prediction of Numeric Values.ipynb",
      "provenance": [],
      "collapsed_sections": [],
      "authorship_tag": "ABX9TyPOaqa5bZPXVlaTYr+6ejdU",
      "include_colab_link": true
    },
    "kernelspec": {
      "name": "python3",
      "display_name": "Python 3"
    },
    "language_info": {
      "name": "python"
    }
  },
  "cells": [
    {
      "cell_type": "markdown",
      "metadata": {
        "id": "view-in-github",
        "colab_type": "text"
      },
      "source": [
        "<a href=\"https://colab.research.google.com/github/arunmozhidevan/MDS271-Machine-Learning/blob/main/LAB_3_Prediction_of_Numeric_Values.ipynb\" target=\"_parent\"><img src=\"https://colab.research.google.com/assets/colab-badge.svg\" alt=\"Open In Colab\"/></a>"
      ]
    },
    {
      "cell_type": "markdown",
      "source": [
        "# LAB 3 - Prediction of Numeric Values\n",
        "<hr/>\n",
        "\n",
        "Submitted by <br>\n",
        "Name: **Arun Mozhi Devan** <br>\n",
        "Register Number: **21122009** <br>\n",
        "Class: **MSCDS 2** <br> \n",
        "<hr/>\n"
      ],
      "metadata": {
        "id": "VkYPUXVTq_Kr"
      }
    },
    {
      "cell_type": "markdown",
      "source": [
        "The attached dataset has rent details of some houses in Lavasa."
      ],
      "metadata": {
        "id": "h0_EmGhOq10e"
      }
    },
    {
      "cell_type": "code",
      "source": [
        "from sklearn.model_selection import train_test_split as tts\n",
        "from sklearn.preprocessing import MinMaxScaler, LabelEncoder\n",
        "from sklearn.ensemble import GradientBoostingRegressor\n",
        "from sklearn.linear_model import LinearRegression\n",
        "from sklearn.metrics import r2_score, mean_squared_error\n",
        "import matplotlib.pyplot as plt\n",
        "import seaborn as sns\n",
        "import numpy as np\n",
        "import pandas as pd\n",
        "import random\n",
        "from scipy import stats as st\n",
        "from pprint import pprint"
      ],
      "metadata": {
        "id": "hZJQIxyW5TVZ"
      },
      "execution_count": 167,
      "outputs": []
    },
    {
      "cell_type": "markdown",
      "source": [
        "## Use Pandas to Import the Dataset"
      ],
      "metadata": {
        "id": "9ltkc5UYr7Kd"
      }
    },
    {
      "cell_type": "code",
      "source": [
        "data = pd.read_csv('/content/HousePrices - Lab3.csv')\n",
        "data"
      ],
      "metadata": {
        "colab": {
          "base_uri": "https://localhost:8080/",
          "height": 423
        },
        "id": "fV2JakbF4hTs",
        "outputId": "e9d7c73d-21c7-4042-c505-eea167a0e1a6"
      },
      "execution_count": 168,
      "outputs": [
        {
          "output_type": "execute_result",
          "data": {
            "text/plain": [
              "              BuildingType       Location   Size  AreaSqFt  NoOfBath  \\\n",
              "0     Minimum Budget Rooms    Portofino H  1 BHK     400.0         1   \n",
              "1     Minimum Budget Rooms    Portofino H  1 BHK     450.0         1   \n",
              "2     Minimum Budget Rooms  School Street  1 BHK     530.0         1   \n",
              "3     Minimum Budget Rooms    Portofino B  1 BHK     400.0         1   \n",
              "4     Minimum Budget Rooms  School Street  2 BHK     460.0         1   \n",
              "..                     ...            ...    ...       ...       ...   \n",
              "995  Super Furnished Villa    Portofino D  4 BHK    4900.0         4   \n",
              "996  Super Furnished Villa    Portofino B  4 BHK    3750.0         4   \n",
              "997  Super Furnished Villa  School Street  4 BHK    5270.0         4   \n",
              "998  Super Furnished Villa    Portofino B  6 BHK    5100.0         7   \n",
              "999  Super Furnished Villa    Portofino B  7 BHK    6300.0         6   \n",
              "\n",
              "     NoOfPeople  NoOfBalcony  RentPerMonth  \n",
              "0             1            1        1100.0  \n",
              "1             1            1        1100.0  \n",
              "2             1            0        1166.0  \n",
              "3             1            0        1400.0  \n",
              "4             1            0        1500.0  \n",
              "..          ...          ...           ...  \n",
              "995           6            3       70000.0  \n",
              "996           5            0       76000.0  \n",
              "997           5            3       80000.0  \n",
              "998           6            3       90000.0  \n",
              "999           6            3       96000.0  \n",
              "\n",
              "[1000 rows x 8 columns]"
            ],
            "text/html": [
              "\n",
              "  <div id=\"df-4d525b7c-d5c4-4509-a135-6d0400924788\">\n",
              "    <div class=\"colab-df-container\">\n",
              "      <div>\n",
              "<style scoped>\n",
              "    .dataframe tbody tr th:only-of-type {\n",
              "        vertical-align: middle;\n",
              "    }\n",
              "\n",
              "    .dataframe tbody tr th {\n",
              "        vertical-align: top;\n",
              "    }\n",
              "\n",
              "    .dataframe thead th {\n",
              "        text-align: right;\n",
              "    }\n",
              "</style>\n",
              "<table border=\"1\" class=\"dataframe\">\n",
              "  <thead>\n",
              "    <tr style=\"text-align: right;\">\n",
              "      <th></th>\n",
              "      <th>BuildingType</th>\n",
              "      <th>Location</th>\n",
              "      <th>Size</th>\n",
              "      <th>AreaSqFt</th>\n",
              "      <th>NoOfBath</th>\n",
              "      <th>NoOfPeople</th>\n",
              "      <th>NoOfBalcony</th>\n",
              "      <th>RentPerMonth</th>\n",
              "    </tr>\n",
              "  </thead>\n",
              "  <tbody>\n",
              "    <tr>\n",
              "      <th>0</th>\n",
              "      <td>Minimum Budget Rooms</td>\n",
              "      <td>Portofino H</td>\n",
              "      <td>1 BHK</td>\n",
              "      <td>400.0</td>\n",
              "      <td>1</td>\n",
              "      <td>1</td>\n",
              "      <td>1</td>\n",
              "      <td>1100.0</td>\n",
              "    </tr>\n",
              "    <tr>\n",
              "      <th>1</th>\n",
              "      <td>Minimum Budget Rooms</td>\n",
              "      <td>Portofino H</td>\n",
              "      <td>1 BHK</td>\n",
              "      <td>450.0</td>\n",
              "      <td>1</td>\n",
              "      <td>1</td>\n",
              "      <td>1</td>\n",
              "      <td>1100.0</td>\n",
              "    </tr>\n",
              "    <tr>\n",
              "      <th>2</th>\n",
              "      <td>Minimum Budget Rooms</td>\n",
              "      <td>School Street</td>\n",
              "      <td>1 BHK</td>\n",
              "      <td>530.0</td>\n",
              "      <td>1</td>\n",
              "      <td>1</td>\n",
              "      <td>0</td>\n",
              "      <td>1166.0</td>\n",
              "    </tr>\n",
              "    <tr>\n",
              "      <th>3</th>\n",
              "      <td>Minimum Budget Rooms</td>\n",
              "      <td>Portofino B</td>\n",
              "      <td>1 BHK</td>\n",
              "      <td>400.0</td>\n",
              "      <td>1</td>\n",
              "      <td>1</td>\n",
              "      <td>0</td>\n",
              "      <td>1400.0</td>\n",
              "    </tr>\n",
              "    <tr>\n",
              "      <th>4</th>\n",
              "      <td>Minimum Budget Rooms</td>\n",
              "      <td>School Street</td>\n",
              "      <td>2 BHK</td>\n",
              "      <td>460.0</td>\n",
              "      <td>1</td>\n",
              "      <td>1</td>\n",
              "      <td>0</td>\n",
              "      <td>1500.0</td>\n",
              "    </tr>\n",
              "    <tr>\n",
              "      <th>...</th>\n",
              "      <td>...</td>\n",
              "      <td>...</td>\n",
              "      <td>...</td>\n",
              "      <td>...</td>\n",
              "      <td>...</td>\n",
              "      <td>...</td>\n",
              "      <td>...</td>\n",
              "      <td>...</td>\n",
              "    </tr>\n",
              "    <tr>\n",
              "      <th>995</th>\n",
              "      <td>Super Furnished Villa</td>\n",
              "      <td>Portofino D</td>\n",
              "      <td>4 BHK</td>\n",
              "      <td>4900.0</td>\n",
              "      <td>4</td>\n",
              "      <td>6</td>\n",
              "      <td>3</td>\n",
              "      <td>70000.0</td>\n",
              "    </tr>\n",
              "    <tr>\n",
              "      <th>996</th>\n",
              "      <td>Super Furnished Villa</td>\n",
              "      <td>Portofino B</td>\n",
              "      <td>4 BHK</td>\n",
              "      <td>3750.0</td>\n",
              "      <td>4</td>\n",
              "      <td>5</td>\n",
              "      <td>0</td>\n",
              "      <td>76000.0</td>\n",
              "    </tr>\n",
              "    <tr>\n",
              "      <th>997</th>\n",
              "      <td>Super Furnished Villa</td>\n",
              "      <td>School Street</td>\n",
              "      <td>4 BHK</td>\n",
              "      <td>5270.0</td>\n",
              "      <td>4</td>\n",
              "      <td>5</td>\n",
              "      <td>3</td>\n",
              "      <td>80000.0</td>\n",
              "    </tr>\n",
              "    <tr>\n",
              "      <th>998</th>\n",
              "      <td>Super Furnished Villa</td>\n",
              "      <td>Portofino B</td>\n",
              "      <td>6 BHK</td>\n",
              "      <td>5100.0</td>\n",
              "      <td>7</td>\n",
              "      <td>6</td>\n",
              "      <td>3</td>\n",
              "      <td>90000.0</td>\n",
              "    </tr>\n",
              "    <tr>\n",
              "      <th>999</th>\n",
              "      <td>Super Furnished Villa</td>\n",
              "      <td>Portofino B</td>\n",
              "      <td>7 BHK</td>\n",
              "      <td>6300.0</td>\n",
              "      <td>6</td>\n",
              "      <td>6</td>\n",
              "      <td>3</td>\n",
              "      <td>96000.0</td>\n",
              "    </tr>\n",
              "  </tbody>\n",
              "</table>\n",
              "<p>1000 rows × 8 columns</p>\n",
              "</div>\n",
              "      <button class=\"colab-df-convert\" onclick=\"convertToInteractive('df-4d525b7c-d5c4-4509-a135-6d0400924788')\"\n",
              "              title=\"Convert this dataframe to an interactive table.\"\n",
              "              style=\"display:none;\">\n",
              "        \n",
              "  <svg xmlns=\"http://www.w3.org/2000/svg\" height=\"24px\"viewBox=\"0 0 24 24\"\n",
              "       width=\"24px\">\n",
              "    <path d=\"M0 0h24v24H0V0z\" fill=\"none\"/>\n",
              "    <path d=\"M18.56 5.44l.94 2.06.94-2.06 2.06-.94-2.06-.94-.94-2.06-.94 2.06-2.06.94zm-11 1L8.5 8.5l.94-2.06 2.06-.94-2.06-.94L8.5 2.5l-.94 2.06-2.06.94zm10 10l.94 2.06.94-2.06 2.06-.94-2.06-.94-.94-2.06-.94 2.06-2.06.94z\"/><path d=\"M17.41 7.96l-1.37-1.37c-.4-.4-.92-.59-1.43-.59-.52 0-1.04.2-1.43.59L10.3 9.45l-7.72 7.72c-.78.78-.78 2.05 0 2.83L4 21.41c.39.39.9.59 1.41.59.51 0 1.02-.2 1.41-.59l7.78-7.78 2.81-2.81c.8-.78.8-2.07 0-2.86zM5.41 20L4 18.59l7.72-7.72 1.47 1.35L5.41 20z\"/>\n",
              "  </svg>\n",
              "      </button>\n",
              "      \n",
              "  <style>\n",
              "    .colab-df-container {\n",
              "      display:flex;\n",
              "      flex-wrap:wrap;\n",
              "      gap: 12px;\n",
              "    }\n",
              "\n",
              "    .colab-df-convert {\n",
              "      background-color: #E8F0FE;\n",
              "      border: none;\n",
              "      border-radius: 50%;\n",
              "      cursor: pointer;\n",
              "      display: none;\n",
              "      fill: #1967D2;\n",
              "      height: 32px;\n",
              "      padding: 0 0 0 0;\n",
              "      width: 32px;\n",
              "    }\n",
              "\n",
              "    .colab-df-convert:hover {\n",
              "      background-color: #E2EBFA;\n",
              "      box-shadow: 0px 1px 2px rgba(60, 64, 67, 0.3), 0px 1px 3px 1px rgba(60, 64, 67, 0.15);\n",
              "      fill: #174EA6;\n",
              "    }\n",
              "\n",
              "    [theme=dark] .colab-df-convert {\n",
              "      background-color: #3B4455;\n",
              "      fill: #D2E3FC;\n",
              "    }\n",
              "\n",
              "    [theme=dark] .colab-df-convert:hover {\n",
              "      background-color: #434B5C;\n",
              "      box-shadow: 0px 1px 3px 1px rgba(0, 0, 0, 0.15);\n",
              "      filter: drop-shadow(0px 1px 2px rgba(0, 0, 0, 0.3));\n",
              "      fill: #FFFFFF;\n",
              "    }\n",
              "  </style>\n",
              "\n",
              "      <script>\n",
              "        const buttonEl =\n",
              "          document.querySelector('#df-4d525b7c-d5c4-4509-a135-6d0400924788 button.colab-df-convert');\n",
              "        buttonEl.style.display =\n",
              "          google.colab.kernel.accessAllowed ? 'block' : 'none';\n",
              "\n",
              "        async function convertToInteractive(key) {\n",
              "          const element = document.querySelector('#df-4d525b7c-d5c4-4509-a135-6d0400924788');\n",
              "          const dataTable =\n",
              "            await google.colab.kernel.invokeFunction('convertToInteractive',\n",
              "                                                     [key], {});\n",
              "          if (!dataTable) return;\n",
              "\n",
              "          const docLinkHtml = 'Like what you see? Visit the ' +\n",
              "            '<a target=\"_blank\" href=https://colab.research.google.com/notebooks/data_table.ipynb>data table notebook</a>'\n",
              "            + ' to learn more about interactive tables.';\n",
              "          element.innerHTML = '';\n",
              "          dataTable['output_type'] = 'display_data';\n",
              "          await google.colab.output.renderOutput(dataTable, element);\n",
              "          const docLink = document.createElement('div');\n",
              "          docLink.innerHTML = docLinkHtml;\n",
              "          element.appendChild(docLink);\n",
              "        }\n",
              "      </script>\n",
              "    </div>\n",
              "  </div>\n",
              "  "
            ]
          },
          "metadata": {},
          "execution_count": 168
        }
      ]
    },
    {
      "cell_type": "markdown",
      "source": [
        "## Do the necessary Exploratory Data Analysis"
      ],
      "metadata": {
        "id": "Q11BJINkr8dd"
      }
    },
    {
      "cell_type": "code",
      "source": [
        "data['Location'] = ['Portofino' if 'Portofino' in i else i for i in data['Location']]"
      ],
      "metadata": {
        "id": "kXxkIMj6MpU0"
      },
      "execution_count": 169,
      "outputs": []
    },
    {
      "cell_type": "code",
      "source": [
        "attr = dict() # categories of each qualitative attribute\n",
        "for i in ['BuildingType', 'Location', 'Size']:\n",
        "  attr.update({i:data[i].unique()})\n",
        "attr"
      ],
      "metadata": {
        "colab": {
          "base_uri": "https://localhost:8080/"
        },
        "id": "wX8ktqPPjRPe",
        "outputId": "833ba8fc-a3d5-4dc5-cb7d-3ec1e1199599"
      },
      "execution_count": 170,
      "outputs": [
        {
          "output_type": "execute_result",
          "data": {
            "text/plain": [
              "{'BuildingType': array(['Minimum Budget Rooms', 'Semi Furnished Single Room',\n",
              "        'Semi Furnished Flat', 'Fully Furnished Single Room',\n",
              "        'Super Furnished Single Room', 'Semi Furnished Villa',\n",
              "        'Fully Furnished Flat', 'Super Furnished Flat',\n",
              "        'Fully Furnished Villa', 'Super Furnished Villa'], dtype=object),\n",
              " 'Location': array(['Portofino', 'School Street', 'Clubview Road', 'Starter Homes'],\n",
              "       dtype=object),\n",
              " 'Size': array(['1 BHK', '2 BHK', '1 RK', '3 BHK', '4 BHK', '5 BHK', '6 BHK',\n",
              "        '8 BHK', '7 BHK', '9 BHK'], dtype=object)}"
            ]
          },
          "metadata": {},
          "execution_count": 170
        }
      ]
    },
    {
      "cell_type": "code",
      "source": [
        "data.dtypes # data type of each column"
      ],
      "metadata": {
        "colab": {
          "base_uri": "https://localhost:8080/"
        },
        "id": "WyRry0am-HH2",
        "outputId": "f56c22ca-240f-4cba-c726-3534758cad52"
      },
      "execution_count": 171,
      "outputs": [
        {
          "output_type": "execute_result",
          "data": {
            "text/plain": [
              "BuildingType     object\n",
              "Location         object\n",
              "Size             object\n",
              "AreaSqFt        float64\n",
              "NoOfBath          int64\n",
              "NoOfPeople        int64\n",
              "NoOfBalcony       int64\n",
              "RentPerMonth    float64\n",
              "dtype: object"
            ]
          },
          "metadata": {},
          "execution_count": 171
        }
      ]
    },
    {
      "cell_type": "code",
      "source": [
        "data.columns # columms in the data set"
      ],
      "metadata": {
        "id": "HVRti-RQyBe1",
        "colab": {
          "base_uri": "https://localhost:8080/"
        },
        "outputId": "e8a94e7e-b38c-4d0d-be47-278049492036"
      },
      "execution_count": 172,
      "outputs": [
        {
          "output_type": "execute_result",
          "data": {
            "text/plain": [
              "Index(['BuildingType', 'Location', 'Size', 'AreaSqFt', 'NoOfBath',\n",
              "       'NoOfPeople', 'NoOfBalcony', 'RentPerMonth'],\n",
              "      dtype='object')"
            ]
          },
          "metadata": {},
          "execution_count": 172
        }
      ]
    },
    {
      "cell_type": "code",
      "source": [
        "data.describe() # describtionlike mean, min, max & standard deviation"
      ],
      "metadata": {
        "colab": {
          "base_uri": "https://localhost:8080/",
          "height": 300
        },
        "id": "mqX8wkui9sbm",
        "outputId": "4f439923-0830-4fee-ebcb-982734d7d275"
      },
      "execution_count": 173,
      "outputs": [
        {
          "output_type": "execute_result",
          "data": {
            "text/plain": [
              "           AreaSqFt     NoOfBath   NoOfPeople  NoOfBalcony  RentPerMonth\n",
              "count   1000.000000  1000.000000  1000.000000  1000.000000   1000.000000\n",
              "mean    1548.270010     2.661000     2.168000     1.544000  10476.633500\n",
              "std     1345.141175     1.247251     0.959529     0.838312  10509.508971\n",
              "min      375.000000     1.000000     1.000000     0.000000   1100.000000\n",
              "25%     1090.000000     2.000000     2.000000     1.000000   4890.500000\n",
              "50%     1270.000000     2.000000     2.000000     2.000000   7000.000000\n",
              "75%     1664.250000     3.000000     2.000000     2.000000  11925.000000\n",
              "max    35000.000000    11.000000     6.000000     3.000000  96000.000000"
            ],
            "text/html": [
              "\n",
              "  <div id=\"df-236a45b1-7cb0-4c8e-a5e4-1ece6bf6609e\">\n",
              "    <div class=\"colab-df-container\">\n",
              "      <div>\n",
              "<style scoped>\n",
              "    .dataframe tbody tr th:only-of-type {\n",
              "        vertical-align: middle;\n",
              "    }\n",
              "\n",
              "    .dataframe tbody tr th {\n",
              "        vertical-align: top;\n",
              "    }\n",
              "\n",
              "    .dataframe thead th {\n",
              "        text-align: right;\n",
              "    }\n",
              "</style>\n",
              "<table border=\"1\" class=\"dataframe\">\n",
              "  <thead>\n",
              "    <tr style=\"text-align: right;\">\n",
              "      <th></th>\n",
              "      <th>AreaSqFt</th>\n",
              "      <th>NoOfBath</th>\n",
              "      <th>NoOfPeople</th>\n",
              "      <th>NoOfBalcony</th>\n",
              "      <th>RentPerMonth</th>\n",
              "    </tr>\n",
              "  </thead>\n",
              "  <tbody>\n",
              "    <tr>\n",
              "      <th>count</th>\n",
              "      <td>1000.000000</td>\n",
              "      <td>1000.000000</td>\n",
              "      <td>1000.000000</td>\n",
              "      <td>1000.000000</td>\n",
              "      <td>1000.000000</td>\n",
              "    </tr>\n",
              "    <tr>\n",
              "      <th>mean</th>\n",
              "      <td>1548.270010</td>\n",
              "      <td>2.661000</td>\n",
              "      <td>2.168000</td>\n",
              "      <td>1.544000</td>\n",
              "      <td>10476.633500</td>\n",
              "    </tr>\n",
              "    <tr>\n",
              "      <th>std</th>\n",
              "      <td>1345.141175</td>\n",
              "      <td>1.247251</td>\n",
              "      <td>0.959529</td>\n",
              "      <td>0.838312</td>\n",
              "      <td>10509.508971</td>\n",
              "    </tr>\n",
              "    <tr>\n",
              "      <th>min</th>\n",
              "      <td>375.000000</td>\n",
              "      <td>1.000000</td>\n",
              "      <td>1.000000</td>\n",
              "      <td>0.000000</td>\n",
              "      <td>1100.000000</td>\n",
              "    </tr>\n",
              "    <tr>\n",
              "      <th>25%</th>\n",
              "      <td>1090.000000</td>\n",
              "      <td>2.000000</td>\n",
              "      <td>2.000000</td>\n",
              "      <td>1.000000</td>\n",
              "      <td>4890.500000</td>\n",
              "    </tr>\n",
              "    <tr>\n",
              "      <th>50%</th>\n",
              "      <td>1270.000000</td>\n",
              "      <td>2.000000</td>\n",
              "      <td>2.000000</td>\n",
              "      <td>2.000000</td>\n",
              "      <td>7000.000000</td>\n",
              "    </tr>\n",
              "    <tr>\n",
              "      <th>75%</th>\n",
              "      <td>1664.250000</td>\n",
              "      <td>3.000000</td>\n",
              "      <td>2.000000</td>\n",
              "      <td>2.000000</td>\n",
              "      <td>11925.000000</td>\n",
              "    </tr>\n",
              "    <tr>\n",
              "      <th>max</th>\n",
              "      <td>35000.000000</td>\n",
              "      <td>11.000000</td>\n",
              "      <td>6.000000</td>\n",
              "      <td>3.000000</td>\n",
              "      <td>96000.000000</td>\n",
              "    </tr>\n",
              "  </tbody>\n",
              "</table>\n",
              "</div>\n",
              "      <button class=\"colab-df-convert\" onclick=\"convertToInteractive('df-236a45b1-7cb0-4c8e-a5e4-1ece6bf6609e')\"\n",
              "              title=\"Convert this dataframe to an interactive table.\"\n",
              "              style=\"display:none;\">\n",
              "        \n",
              "  <svg xmlns=\"http://www.w3.org/2000/svg\" height=\"24px\"viewBox=\"0 0 24 24\"\n",
              "       width=\"24px\">\n",
              "    <path d=\"M0 0h24v24H0V0z\" fill=\"none\"/>\n",
              "    <path d=\"M18.56 5.44l.94 2.06.94-2.06 2.06-.94-2.06-.94-.94-2.06-.94 2.06-2.06.94zm-11 1L8.5 8.5l.94-2.06 2.06-.94-2.06-.94L8.5 2.5l-.94 2.06-2.06.94zm10 10l.94 2.06.94-2.06 2.06-.94-2.06-.94-.94-2.06-.94 2.06-2.06.94z\"/><path d=\"M17.41 7.96l-1.37-1.37c-.4-.4-.92-.59-1.43-.59-.52 0-1.04.2-1.43.59L10.3 9.45l-7.72 7.72c-.78.78-.78 2.05 0 2.83L4 21.41c.39.39.9.59 1.41.59.51 0 1.02-.2 1.41-.59l7.78-7.78 2.81-2.81c.8-.78.8-2.07 0-2.86zM5.41 20L4 18.59l7.72-7.72 1.47 1.35L5.41 20z\"/>\n",
              "  </svg>\n",
              "      </button>\n",
              "      \n",
              "  <style>\n",
              "    .colab-df-container {\n",
              "      display:flex;\n",
              "      flex-wrap:wrap;\n",
              "      gap: 12px;\n",
              "    }\n",
              "\n",
              "    .colab-df-convert {\n",
              "      background-color: #E8F0FE;\n",
              "      border: none;\n",
              "      border-radius: 50%;\n",
              "      cursor: pointer;\n",
              "      display: none;\n",
              "      fill: #1967D2;\n",
              "      height: 32px;\n",
              "      padding: 0 0 0 0;\n",
              "      width: 32px;\n",
              "    }\n",
              "\n",
              "    .colab-df-convert:hover {\n",
              "      background-color: #E2EBFA;\n",
              "      box-shadow: 0px 1px 2px rgba(60, 64, 67, 0.3), 0px 1px 3px 1px rgba(60, 64, 67, 0.15);\n",
              "      fill: #174EA6;\n",
              "    }\n",
              "\n",
              "    [theme=dark] .colab-df-convert {\n",
              "      background-color: #3B4455;\n",
              "      fill: #D2E3FC;\n",
              "    }\n",
              "\n",
              "    [theme=dark] .colab-df-convert:hover {\n",
              "      background-color: #434B5C;\n",
              "      box-shadow: 0px 1px 3px 1px rgba(0, 0, 0, 0.15);\n",
              "      filter: drop-shadow(0px 1px 2px rgba(0, 0, 0, 0.3));\n",
              "      fill: #FFFFFF;\n",
              "    }\n",
              "  </style>\n",
              "\n",
              "      <script>\n",
              "        const buttonEl =\n",
              "          document.querySelector('#df-236a45b1-7cb0-4c8e-a5e4-1ece6bf6609e button.colab-df-convert');\n",
              "        buttonEl.style.display =\n",
              "          google.colab.kernel.accessAllowed ? 'block' : 'none';\n",
              "\n",
              "        async function convertToInteractive(key) {\n",
              "          const element = document.querySelector('#df-236a45b1-7cb0-4c8e-a5e4-1ece6bf6609e');\n",
              "          const dataTable =\n",
              "            await google.colab.kernel.invokeFunction('convertToInteractive',\n",
              "                                                     [key], {});\n",
              "          if (!dataTable) return;\n",
              "\n",
              "          const docLinkHtml = 'Like what you see? Visit the ' +\n",
              "            '<a target=\"_blank\" href=https://colab.research.google.com/notebooks/data_table.ipynb>data table notebook</a>'\n",
              "            + ' to learn more about interactive tables.';\n",
              "          element.innerHTML = '';\n",
              "          dataTable['output_type'] = 'display_data';\n",
              "          await google.colab.output.renderOutput(dataTable, element);\n",
              "          const docLink = document.createElement('div');\n",
              "          docLink.innerHTML = docLinkHtml;\n",
              "          element.appendChild(docLink);\n",
              "        }\n",
              "      </script>\n",
              "    </div>\n",
              "  </div>\n",
              "  "
            ]
          },
          "metadata": {},
          "execution_count": 173
        }
      ]
    },
    {
      "cell_type": "code",
      "source": [
        "data.corr()['RentPerMonth'] # correlation with respect to RentPerMonth    "
      ],
      "metadata": {
        "colab": {
          "base_uri": "https://localhost:8080/"
        },
        "id": "ws6x9_XVwOEO",
        "outputId": "ecc53b9a-1936-43a0-914b-1d9730823f25"
      },
      "execution_count": 174,
      "outputs": [
        {
          "output_type": "execute_result",
          "data": {
            "text/plain": [
              "AreaSqFt        0.473022\n",
              "NoOfBath        0.579693\n",
              "NoOfPeople      0.782853\n",
              "NoOfBalcony     0.193619\n",
              "RentPerMonth    1.000000\n",
              "Name: RentPerMonth, dtype: float64"
            ]
          },
          "metadata": {},
          "execution_count": 174
        }
      ]
    },
    {
      "cell_type": "code",
      "source": [
        "pd.pivot_table(data, values=['AreaSqFt', 'RentPerMonth'], index=['BuildingType','Location'], aggfunc={'AreaSqFt': np.mean,\n",
        "                             'RentPerMonth': ['min', 'max', np.mean]}) # pivot table"
      ],
      "metadata": {
        "colab": {
          "base_uri": "https://localhost:8080/",
          "height": 1000
        },
        "id": "M_lyisEr7crj",
        "outputId": "fc03d4b7-bb68-40ed-8f88-ac5f06811944"
      },
      "execution_count": 175,
      "outputs": [
        {
          "output_type": "execute_result",
          "data": {
            "text/plain": [
              "                                              AreaSqFt RentPerMonth  \\\n",
              "                                                  mean          max   \n",
              "BuildingType                Location                                  \n",
              "Fully Furnished Flat        Clubview Road  2547.500000      37500.0   \n",
              "                            Portofino      2614.533333      37500.0   \n",
              "                            School Street  2558.333333      32500.0   \n",
              "Fully Furnished Single Room Clubview Road  1448.500000      11100.0   \n",
              "                            Portofino      1465.412844      11500.0   \n",
              "                            School Street  1480.950000      11100.0   \n",
              "Fully Furnished Villa       Clubview Road  3834.666667      54850.0   \n",
              "                            Portofino      2935.083333      49900.0   \n",
              "                            School Street  2440.000000      42500.0   \n",
              "Minimum Budget Rooms        Clubview Road   960.885714       5000.0   \n",
              "                            Portofino       951.036145       5191.0   \n",
              "                            School Street   981.375000       5040.0   \n",
              "                            Starter Homes  1798.750000       4900.0   \n",
              "Semi Furnished Flat         Clubview Road  1551.920000      16200.0   \n",
              "                            Portofino      1797.840127      19000.0   \n",
              "                            School Street  1420.891892      17000.0   \n",
              "                            Starter Homes  2400.000000       6000.0   \n",
              "Semi Furnished Single Room  Clubview Road  1109.543654       6377.0   \n",
              "                            Portofino      1110.094972       6600.0   \n",
              "                            School Street  1146.487179       6450.0   \n",
              "                            Starter Homes  1395.500000       6100.0   \n",
              "Semi Furnished Villa        Clubview Road  1836.227273      24700.0   \n",
              "                            Portofino      2305.393939      24500.0   \n",
              "                            School Street  1514.000000      23000.0   \n",
              "Super Furnished Flat        Clubview Road  3428.000000      33000.0   \n",
              "                            Portofino      3031.600000      33700.0   \n",
              "                            School Street  1500.000000      32500.0   \n",
              "Super Furnished Single Room Clubview Road  1694.375000      13400.0   \n",
              "                            Portofino      1771.937500      13500.0   \n",
              "                            School Street  2600.000000      12000.0   \n",
              "Super Furnished Villa       Clubview Road  2668.333333      64000.0   \n",
              "                            Portofino      4096.066667      96000.0   \n",
              "                            School Street  4173.000000      80000.0   \n",
              "\n",
              "                                                                  \n",
              "                                                   mean      min  \n",
              "BuildingType                Location                              \n",
              "Fully Furnished Flat        Clubview Road  27868.750000  19800.0  \n",
              "                            Portofino      25953.333333  19500.0  \n",
              "                            School Street  25166.666667  20500.0  \n",
              "Fully Furnished Single Room Clubview Road   8897.541667   7000.0  \n",
              "                            Portofino       8948.486239   6930.0  \n",
              "                            School Street   8615.300000   6900.0  \n",
              "Fully Furnished Villa       Clubview Road  41341.666667  26200.0  \n",
              "                            Portofino      33675.000000  26500.0  \n",
              "                            School Street  42500.000000  42500.0  \n",
              "Minimum Budget Rooms        Clubview Road   3749.885714   2300.0  \n",
              "                            Portofino       3658.536145   1100.0  \n",
              "                            School Street   3374.958333   1166.0  \n",
              "                            Starter Homes   3708.000000   2300.0  \n",
              "Semi Furnished Flat         Clubview Road   8974.100000   5568.0  \n",
              "                            Portofino      10451.462025   5280.0  \n",
              "                            School Street   8511.216216   5280.0  \n",
              "                            Starter Homes   6000.000000   6000.0  \n",
              "Semi Furnished Single Room  Clubview Road   4733.653846   1650.0  \n",
              "                            Portofino       5026.064246   2000.0  \n",
              "                            School Street   4470.910256   1513.5  \n",
              "                            Starter Homes   4858.500000   4260.0  \n",
              "Semi Furnished Villa        Clubview Road  17881.818182  12300.0  \n",
              "                            Portofino      18893.939394  12500.0  \n",
              "                            School Street  17412.500000  12600.0  \n",
              "Super Furnished Flat        Clubview Road  27800.000000  25000.0  \n",
              "                            Portofino      29340.000000  25000.0  \n",
              "                            School Street  28750.000000  25000.0  \n",
              "Super Furnished Single Room Clubview Road  12425.000000  12000.0  \n",
              "                            Portofino      12293.750000  11500.0  \n",
              "                            School Street  12000.000000  12000.0  \n",
              "Super Furnished Villa       Clubview Road  51333.333333  40000.0  \n",
              "                            Portofino      61606.666667  41000.0  \n",
              "                            School Street  55600.000000  42300.0  "
            ],
            "text/html": [
              "\n",
              "  <div id=\"df-dcc55451-4d43-4088-a7d8-e5edb370b0a4\">\n",
              "    <div class=\"colab-df-container\">\n",
              "      <div>\n",
              "<style scoped>\n",
              "    .dataframe tbody tr th:only-of-type {\n",
              "        vertical-align: middle;\n",
              "    }\n",
              "\n",
              "    .dataframe tbody tr th {\n",
              "        vertical-align: top;\n",
              "    }\n",
              "\n",
              "    .dataframe thead tr th {\n",
              "        text-align: left;\n",
              "    }\n",
              "\n",
              "    .dataframe thead tr:last-of-type th {\n",
              "        text-align: right;\n",
              "    }\n",
              "</style>\n",
              "<table border=\"1\" class=\"dataframe\">\n",
              "  <thead>\n",
              "    <tr>\n",
              "      <th></th>\n",
              "      <th></th>\n",
              "      <th>AreaSqFt</th>\n",
              "      <th colspan=\"3\" halign=\"left\">RentPerMonth</th>\n",
              "    </tr>\n",
              "    <tr>\n",
              "      <th></th>\n",
              "      <th></th>\n",
              "      <th>mean</th>\n",
              "      <th>max</th>\n",
              "      <th>mean</th>\n",
              "      <th>min</th>\n",
              "    </tr>\n",
              "    <tr>\n",
              "      <th>BuildingType</th>\n",
              "      <th>Location</th>\n",
              "      <th></th>\n",
              "      <th></th>\n",
              "      <th></th>\n",
              "      <th></th>\n",
              "    </tr>\n",
              "  </thead>\n",
              "  <tbody>\n",
              "    <tr>\n",
              "      <th rowspan=\"3\" valign=\"top\">Fully Furnished Flat</th>\n",
              "      <th>Clubview Road</th>\n",
              "      <td>2547.500000</td>\n",
              "      <td>37500.0</td>\n",
              "      <td>27868.750000</td>\n",
              "      <td>19800.0</td>\n",
              "    </tr>\n",
              "    <tr>\n",
              "      <th>Portofino</th>\n",
              "      <td>2614.533333</td>\n",
              "      <td>37500.0</td>\n",
              "      <td>25953.333333</td>\n",
              "      <td>19500.0</td>\n",
              "    </tr>\n",
              "    <tr>\n",
              "      <th>School Street</th>\n",
              "      <td>2558.333333</td>\n",
              "      <td>32500.0</td>\n",
              "      <td>25166.666667</td>\n",
              "      <td>20500.0</td>\n",
              "    </tr>\n",
              "    <tr>\n",
              "      <th rowspan=\"3\" valign=\"top\">Fully Furnished Single Room</th>\n",
              "      <th>Clubview Road</th>\n",
              "      <td>1448.500000</td>\n",
              "      <td>11100.0</td>\n",
              "      <td>8897.541667</td>\n",
              "      <td>7000.0</td>\n",
              "    </tr>\n",
              "    <tr>\n",
              "      <th>Portofino</th>\n",
              "      <td>1465.412844</td>\n",
              "      <td>11500.0</td>\n",
              "      <td>8948.486239</td>\n",
              "      <td>6930.0</td>\n",
              "    </tr>\n",
              "    <tr>\n",
              "      <th>School Street</th>\n",
              "      <td>1480.950000</td>\n",
              "      <td>11100.0</td>\n",
              "      <td>8615.300000</td>\n",
              "      <td>6900.0</td>\n",
              "    </tr>\n",
              "    <tr>\n",
              "      <th rowspan=\"3\" valign=\"top\">Fully Furnished Villa</th>\n",
              "      <th>Clubview Road</th>\n",
              "      <td>3834.666667</td>\n",
              "      <td>54850.0</td>\n",
              "      <td>41341.666667</td>\n",
              "      <td>26200.0</td>\n",
              "    </tr>\n",
              "    <tr>\n",
              "      <th>Portofino</th>\n",
              "      <td>2935.083333</td>\n",
              "      <td>49900.0</td>\n",
              "      <td>33675.000000</td>\n",
              "      <td>26500.0</td>\n",
              "    </tr>\n",
              "    <tr>\n",
              "      <th>School Street</th>\n",
              "      <td>2440.000000</td>\n",
              "      <td>42500.0</td>\n",
              "      <td>42500.000000</td>\n",
              "      <td>42500.0</td>\n",
              "    </tr>\n",
              "    <tr>\n",
              "      <th rowspan=\"4\" valign=\"top\">Minimum Budget Rooms</th>\n",
              "      <th>Clubview Road</th>\n",
              "      <td>960.885714</td>\n",
              "      <td>5000.0</td>\n",
              "      <td>3749.885714</td>\n",
              "      <td>2300.0</td>\n",
              "    </tr>\n",
              "    <tr>\n",
              "      <th>Portofino</th>\n",
              "      <td>951.036145</td>\n",
              "      <td>5191.0</td>\n",
              "      <td>3658.536145</td>\n",
              "      <td>1100.0</td>\n",
              "    </tr>\n",
              "    <tr>\n",
              "      <th>School Street</th>\n",
              "      <td>981.375000</td>\n",
              "      <td>5040.0</td>\n",
              "      <td>3374.958333</td>\n",
              "      <td>1166.0</td>\n",
              "    </tr>\n",
              "    <tr>\n",
              "      <th>Starter Homes</th>\n",
              "      <td>1798.750000</td>\n",
              "      <td>4900.0</td>\n",
              "      <td>3708.000000</td>\n",
              "      <td>2300.0</td>\n",
              "    </tr>\n",
              "    <tr>\n",
              "      <th rowspan=\"4\" valign=\"top\">Semi Furnished Flat</th>\n",
              "      <th>Clubview Road</th>\n",
              "      <td>1551.920000</td>\n",
              "      <td>16200.0</td>\n",
              "      <td>8974.100000</td>\n",
              "      <td>5568.0</td>\n",
              "    </tr>\n",
              "    <tr>\n",
              "      <th>Portofino</th>\n",
              "      <td>1797.840127</td>\n",
              "      <td>19000.0</td>\n",
              "      <td>10451.462025</td>\n",
              "      <td>5280.0</td>\n",
              "    </tr>\n",
              "    <tr>\n",
              "      <th>School Street</th>\n",
              "      <td>1420.891892</td>\n",
              "      <td>17000.0</td>\n",
              "      <td>8511.216216</td>\n",
              "      <td>5280.0</td>\n",
              "    </tr>\n",
              "    <tr>\n",
              "      <th>Starter Homes</th>\n",
              "      <td>2400.000000</td>\n",
              "      <td>6000.0</td>\n",
              "      <td>6000.000000</td>\n",
              "      <td>6000.0</td>\n",
              "    </tr>\n",
              "    <tr>\n",
              "      <th rowspan=\"4\" valign=\"top\">Semi Furnished Single Room</th>\n",
              "      <th>Clubview Road</th>\n",
              "      <td>1109.543654</td>\n",
              "      <td>6377.0</td>\n",
              "      <td>4733.653846</td>\n",
              "      <td>1650.0</td>\n",
              "    </tr>\n",
              "    <tr>\n",
              "      <th>Portofino</th>\n",
              "      <td>1110.094972</td>\n",
              "      <td>6600.0</td>\n",
              "      <td>5026.064246</td>\n",
              "      <td>2000.0</td>\n",
              "    </tr>\n",
              "    <tr>\n",
              "      <th>School Street</th>\n",
              "      <td>1146.487179</td>\n",
              "      <td>6450.0</td>\n",
              "      <td>4470.910256</td>\n",
              "      <td>1513.5</td>\n",
              "    </tr>\n",
              "    <tr>\n",
              "      <th>Starter Homes</th>\n",
              "      <td>1395.500000</td>\n",
              "      <td>6100.0</td>\n",
              "      <td>4858.500000</td>\n",
              "      <td>4260.0</td>\n",
              "    </tr>\n",
              "    <tr>\n",
              "      <th rowspan=\"3\" valign=\"top\">Semi Furnished Villa</th>\n",
              "      <th>Clubview Road</th>\n",
              "      <td>1836.227273</td>\n",
              "      <td>24700.0</td>\n",
              "      <td>17881.818182</td>\n",
              "      <td>12300.0</td>\n",
              "    </tr>\n",
              "    <tr>\n",
              "      <th>Portofino</th>\n",
              "      <td>2305.393939</td>\n",
              "      <td>24500.0</td>\n",
              "      <td>18893.939394</td>\n",
              "      <td>12500.0</td>\n",
              "    </tr>\n",
              "    <tr>\n",
              "      <th>School Street</th>\n",
              "      <td>1514.000000</td>\n",
              "      <td>23000.0</td>\n",
              "      <td>17412.500000</td>\n",
              "      <td>12600.0</td>\n",
              "    </tr>\n",
              "    <tr>\n",
              "      <th rowspan=\"3\" valign=\"top\">Super Furnished Flat</th>\n",
              "      <th>Clubview Road</th>\n",
              "      <td>3428.000000</td>\n",
              "      <td>33000.0</td>\n",
              "      <td>27800.000000</td>\n",
              "      <td>25000.0</td>\n",
              "    </tr>\n",
              "    <tr>\n",
              "      <th>Portofino</th>\n",
              "      <td>3031.600000</td>\n",
              "      <td>33700.0</td>\n",
              "      <td>29340.000000</td>\n",
              "      <td>25000.0</td>\n",
              "    </tr>\n",
              "    <tr>\n",
              "      <th>School Street</th>\n",
              "      <td>1500.000000</td>\n",
              "      <td>32500.0</td>\n",
              "      <td>28750.000000</td>\n",
              "      <td>25000.0</td>\n",
              "    </tr>\n",
              "    <tr>\n",
              "      <th rowspan=\"3\" valign=\"top\">Super Furnished Single Room</th>\n",
              "      <th>Clubview Road</th>\n",
              "      <td>1694.375000</td>\n",
              "      <td>13400.0</td>\n",
              "      <td>12425.000000</td>\n",
              "      <td>12000.0</td>\n",
              "    </tr>\n",
              "    <tr>\n",
              "      <th>Portofino</th>\n",
              "      <td>1771.937500</td>\n",
              "      <td>13500.0</td>\n",
              "      <td>12293.750000</td>\n",
              "      <td>11500.0</td>\n",
              "    </tr>\n",
              "    <tr>\n",
              "      <th>School Street</th>\n",
              "      <td>2600.000000</td>\n",
              "      <td>12000.0</td>\n",
              "      <td>12000.000000</td>\n",
              "      <td>12000.0</td>\n",
              "    </tr>\n",
              "    <tr>\n",
              "      <th rowspan=\"3\" valign=\"top\">Super Furnished Villa</th>\n",
              "      <th>Clubview Road</th>\n",
              "      <td>2668.333333</td>\n",
              "      <td>64000.0</td>\n",
              "      <td>51333.333333</td>\n",
              "      <td>40000.0</td>\n",
              "    </tr>\n",
              "    <tr>\n",
              "      <th>Portofino</th>\n",
              "      <td>4096.066667</td>\n",
              "      <td>96000.0</td>\n",
              "      <td>61606.666667</td>\n",
              "      <td>41000.0</td>\n",
              "    </tr>\n",
              "    <tr>\n",
              "      <th>School Street</th>\n",
              "      <td>4173.000000</td>\n",
              "      <td>80000.0</td>\n",
              "      <td>55600.000000</td>\n",
              "      <td>42300.0</td>\n",
              "    </tr>\n",
              "  </tbody>\n",
              "</table>\n",
              "</div>\n",
              "      <button class=\"colab-df-convert\" onclick=\"convertToInteractive('df-dcc55451-4d43-4088-a7d8-e5edb370b0a4')\"\n",
              "              title=\"Convert this dataframe to an interactive table.\"\n",
              "              style=\"display:none;\">\n",
              "        \n",
              "  <svg xmlns=\"http://www.w3.org/2000/svg\" height=\"24px\"viewBox=\"0 0 24 24\"\n",
              "       width=\"24px\">\n",
              "    <path d=\"M0 0h24v24H0V0z\" fill=\"none\"/>\n",
              "    <path d=\"M18.56 5.44l.94 2.06.94-2.06 2.06-.94-2.06-.94-.94-2.06-.94 2.06-2.06.94zm-11 1L8.5 8.5l.94-2.06 2.06-.94-2.06-.94L8.5 2.5l-.94 2.06-2.06.94zm10 10l.94 2.06.94-2.06 2.06-.94-2.06-.94-.94-2.06-.94 2.06-2.06.94z\"/><path d=\"M17.41 7.96l-1.37-1.37c-.4-.4-.92-.59-1.43-.59-.52 0-1.04.2-1.43.59L10.3 9.45l-7.72 7.72c-.78.78-.78 2.05 0 2.83L4 21.41c.39.39.9.59 1.41.59.51 0 1.02-.2 1.41-.59l7.78-7.78 2.81-2.81c.8-.78.8-2.07 0-2.86zM5.41 20L4 18.59l7.72-7.72 1.47 1.35L5.41 20z\"/>\n",
              "  </svg>\n",
              "      </button>\n",
              "      \n",
              "  <style>\n",
              "    .colab-df-container {\n",
              "      display:flex;\n",
              "      flex-wrap:wrap;\n",
              "      gap: 12px;\n",
              "    }\n",
              "\n",
              "    .colab-df-convert {\n",
              "      background-color: #E8F0FE;\n",
              "      border: none;\n",
              "      border-radius: 50%;\n",
              "      cursor: pointer;\n",
              "      display: none;\n",
              "      fill: #1967D2;\n",
              "      height: 32px;\n",
              "      padding: 0 0 0 0;\n",
              "      width: 32px;\n",
              "    }\n",
              "\n",
              "    .colab-df-convert:hover {\n",
              "      background-color: #E2EBFA;\n",
              "      box-shadow: 0px 1px 2px rgba(60, 64, 67, 0.3), 0px 1px 3px 1px rgba(60, 64, 67, 0.15);\n",
              "      fill: #174EA6;\n",
              "    }\n",
              "\n",
              "    [theme=dark] .colab-df-convert {\n",
              "      background-color: #3B4455;\n",
              "      fill: #D2E3FC;\n",
              "    }\n",
              "\n",
              "    [theme=dark] .colab-df-convert:hover {\n",
              "      background-color: #434B5C;\n",
              "      box-shadow: 0px 1px 3px 1px rgba(0, 0, 0, 0.15);\n",
              "      filter: drop-shadow(0px 1px 2px rgba(0, 0, 0, 0.3));\n",
              "      fill: #FFFFFF;\n",
              "    }\n",
              "  </style>\n",
              "\n",
              "      <script>\n",
              "        const buttonEl =\n",
              "          document.querySelector('#df-dcc55451-4d43-4088-a7d8-e5edb370b0a4 button.colab-df-convert');\n",
              "        buttonEl.style.display =\n",
              "          google.colab.kernel.accessAllowed ? 'block' : 'none';\n",
              "\n",
              "        async function convertToInteractive(key) {\n",
              "          const element = document.querySelector('#df-dcc55451-4d43-4088-a7d8-e5edb370b0a4');\n",
              "          const dataTable =\n",
              "            await google.colab.kernel.invokeFunction('convertToInteractive',\n",
              "                                                     [key], {});\n",
              "          if (!dataTable) return;\n",
              "\n",
              "          const docLinkHtml = 'Like what you see? Visit the ' +\n",
              "            '<a target=\"_blank\" href=https://colab.research.google.com/notebooks/data_table.ipynb>data table notebook</a>'\n",
              "            + ' to learn more about interactive tables.';\n",
              "          element.innerHTML = '';\n",
              "          dataTable['output_type'] = 'display_data';\n",
              "          await google.colab.output.renderOutput(dataTable, element);\n",
              "          const docLink = document.createElement('div');\n",
              "          docLink.innerHTML = docLinkHtml;\n",
              "          element.appendChild(docLink);\n",
              "        }\n",
              "      </script>\n",
              "    </div>\n",
              "  </div>\n",
              "  "
            ]
          },
          "metadata": {},
          "execution_count": 175
        }
      ]
    },
    {
      "cell_type": "code",
      "source": [
        "data.value_counts()"
      ],
      "metadata": {
        "colab": {
          "base_uri": "https://localhost:8080/"
        },
        "id": "tYCIAd-i93Mv",
        "outputId": "d040f56b-0435-4c23-a1b0-660aaa33a6bc"
      },
      "execution_count": 176,
      "outputs": [
        {
          "output_type": "execute_result",
          "data": {
            "text/plain": [
              "BuildingType                Location       Size   AreaSqFt  NoOfBath  NoOfPeople  NoOfBalcony  RentPerMonth\n",
              "Semi Furnished Single Room  Portofino      2 BHK  1200.0    2         2           2            5200.0          3\n",
              "                            School Street  2 BHK  1015.0    2         1           2            2588.0          2\n",
              "                            Clubview Road  3 BHK  1464.0    3         2           2            5600.0          2\n",
              "Semi Furnished Flat         School Street  2 BHK  1200.0    2         2           1            6500.0          2\n",
              "Semi Furnished Single Room  School Street  1 BHK  645.0     1         1           1            1645.0          2\n",
              "                                                                                                              ..\n",
              "Minimum Budget Rooms        School Street  2 BHK  708.0     2         1           2            3700.0          1\n",
              "                                                  800.0     1         1           1            2000.0          1\n",
              "                                                  950.0     2         2           1            4000.0          1\n",
              "                                                  970.0     2         2           0            3300.0          1\n",
              "Super Furnished Villa       School Street  5 BHK  4239.0    5         5           2            42300.0         1\n",
              "Length: 990, dtype: int64"
            ]
          },
          "metadata": {},
          "execution_count": 176
        }
      ]
    },
    {
      "cell_type": "code",
      "source": [
        "data_labled = data"
      ],
      "metadata": {
        "id": "sRGso4HTfWxW"
      },
      "execution_count": 194,
      "outputs": []
    },
    {
      "cell_type": "code",
      "source": [
        "le = dict()\n",
        "for i in ['BuildingType', 'Location', 'Size']:\n",
        "  le[i] = LabelEncoder()\n",
        "  data_labled[i] = np.array(le[i].fit_transform(data_labled[i])).reshape(-1,1) "
      ],
      "metadata": {
        "id": "5xbNjmk2lS8g"
      },
      "execution_count": 220,
      "outputs": []
    },
    {
      "cell_type": "code",
      "source": [
        "le.inverse_transform([8])"
      ],
      "metadata": {
        "colab": {
          "base_uri": "https://localhost:8080/"
        },
        "id": "Tj6fpTIIewZ-",
        "outputId": "648e599a-9091-41d2-9496-b975b58b4557"
      },
      "execution_count": 192,
      "outputs": [
        {
          "output_type": "execute_result",
          "data": {
            "text/plain": [
              "array(['8 BHK'], dtype=object)"
            ]
          },
          "metadata": {},
          "execution_count": 192
        }
      ]
    },
    {
      "cell_type": "code",
      "source": [
        "new_attr = dict()\n",
        "for i in ['BuildingType', 'Location', 'Size']:\n",
        "  new_attr.update({i:data[i].unique()})\n",
        "new_attr"
      ],
      "metadata": {
        "colab": {
          "base_uri": "https://localhost:8080/"
        },
        "id": "bqYqseYNj7oX",
        "outputId": "f23454e4-519a-438c-c8fd-87129b1ed30c"
      },
      "execution_count": 178,
      "outputs": [
        {
          "output_type": "execute_result",
          "data": {
            "text/plain": [
              "{'BuildingType': array([3, 5, 4, 1, 8, 6, 0, 7, 2, 9]),\n",
              " 'Location': array([1, 2, 0, 3]),\n",
              " 'Size': array([0, 2, 1, 3, 4, 5, 6, 8, 7, 9])}"
            ]
          },
          "metadata": {},
          "execution_count": 178
        }
      ]
    },
    {
      "cell_type": "code",
      "source": [
        "attr['BuildingType'] = dict([(i,j) for i,j in zip(attr['BuildingType'],new_attr['BuildingType'])])"
      ],
      "metadata": {
        "id": "cv0BtD5Rk1uf"
      },
      "execution_count": 179,
      "outputs": []
    },
    {
      "cell_type": "code",
      "source": [
        "for i in ['BuildingType', 'Location', 'Size']:\n",
        "  attr[i] = dict([(i,j) for i,j in zip(attr[i],new_attr[i])])"
      ],
      "metadata": {
        "id": "opKtsM7JlSi0"
      },
      "execution_count": 180,
      "outputs": []
    },
    {
      "cell_type": "code",
      "source": [
        "attr"
      ],
      "metadata": {
        "colab": {
          "base_uri": "https://localhost:8080/"
        },
        "id": "uDCXAuVTmJtq",
        "outputId": "97313f40-27ba-47ac-c48a-63bca294e828"
      },
      "execution_count": 181,
      "outputs": [
        {
          "output_type": "execute_result",
          "data": {
            "text/plain": [
              "{'BuildingType': {'Fully Furnished Flat': 0,\n",
              "  'Fully Furnished Single Room': 1,\n",
              "  'Fully Furnished Villa': 2,\n",
              "  'Minimum Budget Rooms': 3,\n",
              "  'Semi Furnished Flat': 4,\n",
              "  'Semi Furnished Single Room': 5,\n",
              "  'Semi Furnished Villa': 6,\n",
              "  'Super Furnished Flat': 7,\n",
              "  'Super Furnished Single Room': 8,\n",
              "  'Super Furnished Villa': 9},\n",
              " 'Location': {'Clubview Road': 0,\n",
              "  'Portofino': 1,\n",
              "  'School Street': 2,\n",
              "  'Starter Homes': 3},\n",
              " 'Size': {'1 BHK': 0,\n",
              "  '1 RK': 1,\n",
              "  '2 BHK': 2,\n",
              "  '3 BHK': 3,\n",
              "  '4 BHK': 4,\n",
              "  '5 BHK': 5,\n",
              "  '6 BHK': 6,\n",
              "  '7 BHK': 7,\n",
              "  '8 BHK': 8,\n",
              "  '9 BHK': 9}}"
            ]
          },
          "metadata": {},
          "execution_count": 181
        }
      ]
    },
    {
      "cell_type": "markdown",
      "source": [
        "## Use the train_test_split method available in SCIKIT to split the dataset into * Train Dataset and Test Dataset.\n"
      ],
      "metadata": {
        "id": "b5L6i-HHsGTb"
      }
    },
    {
      "cell_type": "code",
      "source": [
        "mms = MinMaxScaler()\n",
        "data_transformed = mms.fit_transform(data_labled)"
      ],
      "metadata": {
        "id": "5y3sePVDYnRn"
      },
      "execution_count": 197,
      "outputs": []
    },
    {
      "cell_type": "code",
      "source": [
        "X_train, X_test, y_train, y_test = tts(data_labled.iloc[:,:-1], data_labled.iloc[:,-1], test_size=.4, random_state=4)"
      ],
      "metadata": {
        "id": "Ii2DcX2e5ZdI"
      },
      "execution_count": 216,
      "outputs": []
    },
    {
      "cell_type": "markdown",
      "source": [
        "## Show the Regression Score, Intercept and other parameters etc in the Output\n"
      ],
      "metadata": {
        "id": "llNOhuyvsJRw"
      }
    },
    {
      "cell_type": "code",
      "source": [
        "lr = LinearRegression()\n",
        "lr.fit(X_train, y_train)\n",
        "yhat = lr.predict(X_test)\n",
        "\n",
        "print(f'Score: {lr.score(X_train, y_train)}\\n Intercept: {lr.intercept_}')\n",
        "pprint(f'Coefficient: {dict([(i,lr.coef_[j]) for i,j in zip(data.columns,range(len(data.columns)-1))])}')"
      ],
      "metadata": {
        "colab": {
          "base_uri": "https://localhost:8080/"
        },
        "id": "ZOKJH2RfLHM7",
        "outputId": "5bc49579-995a-41fb-c465-ad4b196f2a54"
      },
      "execution_count": 217,
      "outputs": [
        {
          "output_type": "stream",
          "name": "stdout",
          "text": [
            "Score: 0.7106426459704681\n",
            " Intercept: -13161.491014082108\n",
            "(\"Coefficient: {'BuildingType': 821.7482882265765, 'Location': \"\n",
            " \"-160.72573653792412, 'Size': -587.214771740206, 'AreaSqFt': \"\n",
            " \"0.8054688371827012, 'NoOfBath': 2449.927961654973, 'NoOfPeople': \"\n",
            " \"6985.275489018609, 'NoOfBalcony': -347.9847368125499}\")\n"
          ]
        }
      ]
    },
    {
      "cell_type": "code",
      "source": [
        "# improving the accuracy using Gradient Boosting\n",
        "gbr = GradientBoostingRegressor(n_estimators= 150, min_samples_leaf=7)\n",
        "gbr.fit(X_train, y_train)\n",
        "yhat = gbr.predict(X_test)\n",
        "gbr.score(X_train, y_train)"
      ],
      "metadata": {
        "colab": {
          "base_uri": "https://localhost:8080/"
        },
        "id": "nYaQW8-m4g-V",
        "outputId": "e03fd26d-c910-446f-ce72-90afc4513185"
      },
      "execution_count": 218,
      "outputs": [
        {
          "output_type": "execute_result",
          "data": {
            "text/plain": [
              "0.9662348990105873"
            ]
          },
          "metadata": {},
          "execution_count": 218
        }
      ]
    },
    {
      "cell_type": "markdown",
      "source": [
        "## Use visualizations and plots wherever possible\n"
      ],
      "metadata": {
        "id": "HXfYVCmJsSQo"
      }
    },
    {
      "cell_type": "code",
      "source": [
        "data.drop(columns= ['AreaSqFt', 'RentPerMonth'])"
      ],
      "metadata": {
        "colab": {
          "base_uri": "https://localhost:8080/",
          "height": 423
        },
        "id": "eAo_jvExotim",
        "outputId": "fcf8fec5-395a-4340-b8b4-0968ea943bc4"
      },
      "execution_count": 232,
      "outputs": [
        {
          "output_type": "execute_result",
          "data": {
            "text/plain": [
              "     BuildingType  Location  Size  NoOfBath  NoOfPeople  NoOfBalcony\n",
              "0               3         1     0         1           1            1\n",
              "1               3         1     0         1           1            1\n",
              "2               3         2     0         1           1            0\n",
              "3               3         1     0         1           1            0\n",
              "4               3         2     2         1           1            0\n",
              "..            ...       ...   ...       ...         ...          ...\n",
              "995             9         1     4         4           6            3\n",
              "996             9         1     4         4           5            0\n",
              "997             9         2     4         4           5            3\n",
              "998             9         1     6         7           6            3\n",
              "999             9         1     7         6           6            3\n",
              "\n",
              "[1000 rows x 6 columns]"
            ],
            "text/html": [
              "\n",
              "  <div id=\"df-8c8f4392-a1ce-4ae7-b369-e0e90eb42907\">\n",
              "    <div class=\"colab-df-container\">\n",
              "      <div>\n",
              "<style scoped>\n",
              "    .dataframe tbody tr th:only-of-type {\n",
              "        vertical-align: middle;\n",
              "    }\n",
              "\n",
              "    .dataframe tbody tr th {\n",
              "        vertical-align: top;\n",
              "    }\n",
              "\n",
              "    .dataframe thead th {\n",
              "        text-align: right;\n",
              "    }\n",
              "</style>\n",
              "<table border=\"1\" class=\"dataframe\">\n",
              "  <thead>\n",
              "    <tr style=\"text-align: right;\">\n",
              "      <th></th>\n",
              "      <th>BuildingType</th>\n",
              "      <th>Location</th>\n",
              "      <th>Size</th>\n",
              "      <th>NoOfBath</th>\n",
              "      <th>NoOfPeople</th>\n",
              "      <th>NoOfBalcony</th>\n",
              "    </tr>\n",
              "  </thead>\n",
              "  <tbody>\n",
              "    <tr>\n",
              "      <th>0</th>\n",
              "      <td>3</td>\n",
              "      <td>1</td>\n",
              "      <td>0</td>\n",
              "      <td>1</td>\n",
              "      <td>1</td>\n",
              "      <td>1</td>\n",
              "    </tr>\n",
              "    <tr>\n",
              "      <th>1</th>\n",
              "      <td>3</td>\n",
              "      <td>1</td>\n",
              "      <td>0</td>\n",
              "      <td>1</td>\n",
              "      <td>1</td>\n",
              "      <td>1</td>\n",
              "    </tr>\n",
              "    <tr>\n",
              "      <th>2</th>\n",
              "      <td>3</td>\n",
              "      <td>2</td>\n",
              "      <td>0</td>\n",
              "      <td>1</td>\n",
              "      <td>1</td>\n",
              "      <td>0</td>\n",
              "    </tr>\n",
              "    <tr>\n",
              "      <th>3</th>\n",
              "      <td>3</td>\n",
              "      <td>1</td>\n",
              "      <td>0</td>\n",
              "      <td>1</td>\n",
              "      <td>1</td>\n",
              "      <td>0</td>\n",
              "    </tr>\n",
              "    <tr>\n",
              "      <th>4</th>\n",
              "      <td>3</td>\n",
              "      <td>2</td>\n",
              "      <td>2</td>\n",
              "      <td>1</td>\n",
              "      <td>1</td>\n",
              "      <td>0</td>\n",
              "    </tr>\n",
              "    <tr>\n",
              "      <th>...</th>\n",
              "      <td>...</td>\n",
              "      <td>...</td>\n",
              "      <td>...</td>\n",
              "      <td>...</td>\n",
              "      <td>...</td>\n",
              "      <td>...</td>\n",
              "    </tr>\n",
              "    <tr>\n",
              "      <th>995</th>\n",
              "      <td>9</td>\n",
              "      <td>1</td>\n",
              "      <td>4</td>\n",
              "      <td>4</td>\n",
              "      <td>6</td>\n",
              "      <td>3</td>\n",
              "    </tr>\n",
              "    <tr>\n",
              "      <th>996</th>\n",
              "      <td>9</td>\n",
              "      <td>1</td>\n",
              "      <td>4</td>\n",
              "      <td>4</td>\n",
              "      <td>5</td>\n",
              "      <td>0</td>\n",
              "    </tr>\n",
              "    <tr>\n",
              "      <th>997</th>\n",
              "      <td>9</td>\n",
              "      <td>2</td>\n",
              "      <td>4</td>\n",
              "      <td>4</td>\n",
              "      <td>5</td>\n",
              "      <td>3</td>\n",
              "    </tr>\n",
              "    <tr>\n",
              "      <th>998</th>\n",
              "      <td>9</td>\n",
              "      <td>1</td>\n",
              "      <td>6</td>\n",
              "      <td>7</td>\n",
              "      <td>6</td>\n",
              "      <td>3</td>\n",
              "    </tr>\n",
              "    <tr>\n",
              "      <th>999</th>\n",
              "      <td>9</td>\n",
              "      <td>1</td>\n",
              "      <td>7</td>\n",
              "      <td>6</td>\n",
              "      <td>6</td>\n",
              "      <td>3</td>\n",
              "    </tr>\n",
              "  </tbody>\n",
              "</table>\n",
              "<p>1000 rows × 6 columns</p>\n",
              "</div>\n",
              "      <button class=\"colab-df-convert\" onclick=\"convertToInteractive('df-8c8f4392-a1ce-4ae7-b369-e0e90eb42907')\"\n",
              "              title=\"Convert this dataframe to an interactive table.\"\n",
              "              style=\"display:none;\">\n",
              "        \n",
              "  <svg xmlns=\"http://www.w3.org/2000/svg\" height=\"24px\"viewBox=\"0 0 24 24\"\n",
              "       width=\"24px\">\n",
              "    <path d=\"M0 0h24v24H0V0z\" fill=\"none\"/>\n",
              "    <path d=\"M18.56 5.44l.94 2.06.94-2.06 2.06-.94-2.06-.94-.94-2.06-.94 2.06-2.06.94zm-11 1L8.5 8.5l.94-2.06 2.06-.94-2.06-.94L8.5 2.5l-.94 2.06-2.06.94zm10 10l.94 2.06.94-2.06 2.06-.94-2.06-.94-.94-2.06-.94 2.06-2.06.94z\"/><path d=\"M17.41 7.96l-1.37-1.37c-.4-.4-.92-.59-1.43-.59-.52 0-1.04.2-1.43.59L10.3 9.45l-7.72 7.72c-.78.78-.78 2.05 0 2.83L4 21.41c.39.39.9.59 1.41.59.51 0 1.02-.2 1.41-.59l7.78-7.78 2.81-2.81c.8-.78.8-2.07 0-2.86zM5.41 20L4 18.59l7.72-7.72 1.47 1.35L5.41 20z\"/>\n",
              "  </svg>\n",
              "      </button>\n",
              "      \n",
              "  <style>\n",
              "    .colab-df-container {\n",
              "      display:flex;\n",
              "      flex-wrap:wrap;\n",
              "      gap: 12px;\n",
              "    }\n",
              "\n",
              "    .colab-df-convert {\n",
              "      background-color: #E8F0FE;\n",
              "      border: none;\n",
              "      border-radius: 50%;\n",
              "      cursor: pointer;\n",
              "      display: none;\n",
              "      fill: #1967D2;\n",
              "      height: 32px;\n",
              "      padding: 0 0 0 0;\n",
              "      width: 32px;\n",
              "    }\n",
              "\n",
              "    .colab-df-convert:hover {\n",
              "      background-color: #E2EBFA;\n",
              "      box-shadow: 0px 1px 2px rgba(60, 64, 67, 0.3), 0px 1px 3px 1px rgba(60, 64, 67, 0.15);\n",
              "      fill: #174EA6;\n",
              "    }\n",
              "\n",
              "    [theme=dark] .colab-df-convert {\n",
              "      background-color: #3B4455;\n",
              "      fill: #D2E3FC;\n",
              "    }\n",
              "\n",
              "    [theme=dark] .colab-df-convert:hover {\n",
              "      background-color: #434B5C;\n",
              "      box-shadow: 0px 1px 3px 1px rgba(0, 0, 0, 0.15);\n",
              "      filter: drop-shadow(0px 1px 2px rgba(0, 0, 0, 0.3));\n",
              "      fill: #FFFFFF;\n",
              "    }\n",
              "  </style>\n",
              "\n",
              "      <script>\n",
              "        const buttonEl =\n",
              "          document.querySelector('#df-8c8f4392-a1ce-4ae7-b369-e0e90eb42907 button.colab-df-convert');\n",
              "        buttonEl.style.display =\n",
              "          google.colab.kernel.accessAllowed ? 'block' : 'none';\n",
              "\n",
              "        async function convertToInteractive(key) {\n",
              "          const element = document.querySelector('#df-8c8f4392-a1ce-4ae7-b369-e0e90eb42907');\n",
              "          const dataTable =\n",
              "            await google.colab.kernel.invokeFunction('convertToInteractive',\n",
              "                                                     [key], {});\n",
              "          if (!dataTable) return;\n",
              "\n",
              "          const docLinkHtml = 'Like what you see? Visit the ' +\n",
              "            '<a target=\"_blank\" href=https://colab.research.google.com/notebooks/data_table.ipynb>data table notebook</a>'\n",
              "            + ' to learn more about interactive tables.';\n",
              "          element.innerHTML = '';\n",
              "          dataTable['output_type'] = 'display_data';\n",
              "          await google.colab.output.renderOutput(dataTable, element);\n",
              "          const docLink = document.createElement('div');\n",
              "          docLink.innerHTML = docLinkHtml;\n",
              "          element.appendChild(docLink);\n",
              "        }\n",
              "      </script>\n",
              "    </div>\n",
              "  </div>\n",
              "  "
            ]
          },
          "metadata": {},
          "execution_count": 232
        }
      ]
    },
    {
      "cell_type": "code",
      "source": [
        "# plotting box plot to find outliers \n",
        "_, ax = plt.subplots(figsize=(10, 5))\n",
        "sns.boxplot(data=data.drop(columns= ['AreaSqFt', 'RentPerMonth']), ax = ax)"
      ],
      "metadata": {
        "colab": {
          "base_uri": "https://localhost:8080/",
          "height": 337
        },
        "id": "AkeVsB5xN127",
        "outputId": "9719ef47-9585-4885-a5b4-4aafa5b76eb9"
      },
      "execution_count": 233,
      "outputs": [
        {
          "output_type": "execute_result",
          "data": {
            "text/plain": [
              "<matplotlib.axes._subplots.AxesSubplot at 0x7f2e9ff15210>"
            ]
          },
          "metadata": {},
          "execution_count": 233
        },
        {
          "output_type": "display_data",
          "data": {
            "text/plain": [
              "<Figure size 720x360 with 1 Axes>"
            ],
            "image/png": "[encoded data removed]"
          },
          "metadata": {
            "needs_background": "light"
          }
        }
      ]
    },
    {
      "cell_type": "code",
      "source": [
        "_, ax = plt.subplots(figsize=(10, 5))\n",
        "sns.kdeplot(data=data.drop(columns= ['AreaSqFt', 'RentPerMonth']), ax = ax)"
      ],
      "metadata": {
        "colab": {
          "base_uri": "https://localhost:8080/",
          "height": 337
        },
        "id": "HLyOsiT2PI6p",
        "outputId": "a6304a88-c2c6-4c55-c9f0-be405e44a8b0"
      },
      "execution_count": 234,
      "outputs": [
        {
          "output_type": "execute_result",
          "data": {
            "text/plain": [
              "<matplotlib.axes._subplots.AxesSubplot at 0x7f2e9fe85fd0>"
            ]
          },
          "metadata": {},
          "execution_count": 234
        },
        {
          "output_type": "display_data",
          "data": {
            "text/plain": [
              "<Figure size 720x360 with 1 Axes>"
            ],
            "image/png": "[encoded data removed]"
          },
          "metadata": {
            "needs_background": "light"
          }
        }
      ]
    },
    {
      "cell_type": "code",
      "source": [
        "# pair plot to find relation between the attributes\n",
        "sns.pairplot(data)"
      ],
      "metadata": {
        "colab": {
          "base_uri": "https://localhost:8080/",
          "height": 1000
        },
        "id": "LCYNe_2TMr_B",
        "outputId": "963043d5-665b-4bf6-b8fe-0cb301eb439e"
      },
      "execution_count": 88,
      "outputs": [
        {
          "output_type": "execute_result",
          "data": {
            "text/plain": [
              "<seaborn.axisgrid.PairGrid at 0x7f2ea2ea0fd0>"
            ]
          },
          "metadata": {},
          "execution_count": 88
        },
        {
          "output_type": "display_data",
          "data": {
            "text/plain": [
              "<Figure size 1440x1440 with 72 Axes>"
            ],
            "image/png": "[encoded data removed]"
          },
          "metadata": {
            "needs_background": "light"
          }
        }
      ]
    },
    {
      "cell_type": "markdown",
      "source": [
        "## Format the outputs neatly; Do Documentation, Data Set Description, Objectives, Observations, Conclusions etc as you have done in your previous lab"
      ],
      "metadata": {
        "id": "S52D30JwsUQi"
      }
    },
    {
      "cell_type": "markdown",
      "source": [
        "# Questions\n"
      ],
      "metadata": {
        "id": "8ZleKzBirgcX"
      }
    },
    {
      "cell_type": "markdown",
      "source": [
        "## 1. What are your observations on the Dataset?\n"
      ],
      "metadata": {
        "id": "Sr8xOXTXsbN7"
      }
    },
    {
      "cell_type": "markdown",
      "source": [
        "NoOfPeople is one of the most important feature in finding RentPerMonth"
      ],
      "metadata": {
        "id": "2JW4lnnFO_zR"
      }
    },
    {
      "cell_type": "markdown",
      "source": [
        "## 2. What are the different Error Measures (Evaluation Metrics) in relation to Linear Regression? How much do you get in the above cases?\n"
      ],
      "metadata": {
        "id": "KEQXIShUseI9"
      }
    },
    {
      "cell_type": "code",
      "source": [
        "from sklearn.metrics import r2_score, mean_squared_error, mean_absolute_error, r2_score"
      ],
      "metadata": {
        "id": "9mfUImyYfr6M"
      },
      "execution_count": 89,
      "outputs": []
    },
    {
      "cell_type": "code",
      "source": [
        "mean_squared_error(y_test, yhat) # mean_squared_error"
      ],
      "metadata": {
        "colab": {
          "base_uri": "https://localhost:8080/"
        },
        "id": "3pZxZRu2gQ62",
        "outputId": "e8beaa02-3c15-4b75-9b02-f92e2bd2492f"
      },
      "execution_count": 90,
      "outputs": [
        {
          "output_type": "execute_result",
          "data": {
            "text/plain": [
              "10221545.049308877"
            ]
          },
          "metadata": {},
          "execution_count": 90
        }
      ]
    },
    {
      "cell_type": "code",
      "source": [
        "mean_absolute_error(y_test, yhat) # mean_absolute_error"
      ],
      "metadata": {
        "colab": {
          "base_uri": "https://localhost:8080/"
        },
        "id": "f9gMqUH3gucG",
        "outputId": "cb2423aa-5942-4b06-9984-6432b58c3fce"
      },
      "execution_count": 91,
      "outputs": [
        {
          "output_type": "execute_result",
          "data": {
            "text/plain": [
              "1763.8906838934847"
            ]
          },
          "metadata": {},
          "execution_count": 91
        }
      ]
    },
    {
      "cell_type": "code",
      "source": [
        "np.sqrt(mean_squared_error(y_test, yhat)) # root mean_squared_error"
      ],
      "metadata": {
        "colab": {
          "base_uri": "https://localhost:8080/"
        },
        "id": "YWs4eGIxgxYc",
        "outputId": "e5190ec8-7b87-49f6-acda-021aab7b2322"
      },
      "execution_count": 92,
      "outputs": [
        {
          "output_type": "execute_result",
          "data": {
            "text/plain": [
              "3197.115113552979"
            ]
          },
          "metadata": {},
          "execution_count": 92
        }
      ]
    },
    {
      "cell_type": "code",
      "source": [
        "r2_score(y_test, yhat) # (coefficient of determination) regression score function."
      ],
      "metadata": {
        "colab": {
          "base_uri": "https://localhost:8080/"
        },
        "id": "CWILbdwZg5z_",
        "outputId": "550446a6-5ca9-4d35-a165-a7c3bcb34521"
      },
      "execution_count": 93,
      "outputs": [
        {
          "output_type": "execute_result",
          "data": {
            "text/plain": [
              "0.9040121280215117"
            ]
          },
          "metadata": {},
          "execution_count": 93
        }
      ]
    },
    {
      "cell_type": "markdown",
      "source": [
        "## 3. Note down the errors/losses when the train-test ratio is 50:50, 60:40, 70:30, and 80:20\n"
      ],
      "metadata": {
        "id": "Z8yYYN56sgMA"
      }
    },
    {
      "cell_type": "code",
      "source": [
        "for i in range(2,6):\n",
        "  X_train, X_test, y_train, y_test = tts(data.iloc[:,:-1], data.iloc[:,-1], test_size=i*.1, random_state=4)\n",
        "  lr = LinearRegression()\n",
        "  lr.fit(X_train, y_train)\n",
        "  yhat = lr.predict(X_test)\n",
        "  print(f'train-test ratio: {1-i*.1}:{i*.1} - {mean_squared_error(y_test, yhat, squared=False)}')"
      ],
      "metadata": {
        "colab": {
          "base_uri": "https://localhost:8080/"
        },
        "id": "GpzypZyct8_R",
        "outputId": "0df79c3c-18fc-474f-b482-92c6c482d966"
      },
      "execution_count": 94,
      "outputs": [
        {
          "output_type": "stream",
          "name": "stdout",
          "text": [
            "train-test ratio: 0.8:0.2 - 5753.992052739425\n",
            "train-test ratio: 0.7:0.30000000000000004 - 5818.533084739802\n",
            "train-test ratio: 0.6:0.4 - 5870.499121118333\n",
            "train-test ratio: 0.5:0.5 - 5803.160924753228\n"
          ]
        }
      ]
    },
    {
      "cell_type": "markdown",
      "source": [
        "## 4. During LinearRegression() process, what is the impact of giving TRUE/FALSE as the value for Normalize Parameter?"
      ],
      "metadata": {
        "id": "jikoEqZPVH8b"
      }
    },
    {
      "cell_type": "code",
      "source": [
        "lr = LinearRegression(normalize=True, n_jobs=-1)\n",
        "lr.fit(X_train, y_train)\n",
        "yhat = lr.predict(X_test)\n",
        "print(f'Score: {lr.score(X_train, y_train)}')"
      ],
      "metadata": {
        "colab": {
          "base_uri": "https://localhost:8080/"
        },
        "id": "8oC5n_ZxeQ1J",
        "outputId": "a36cf5aa-fe4e-4d22-9a62-d54d0d1e783f"
      },
      "execution_count": 95,
      "outputs": [
        {
          "output_type": "stream",
          "name": "stdout",
          "text": [
            "Score: 0.6931044264652537\n"
          ]
        },
        {
          "output_type": "stream",
          "name": "stderr",
          "text": [
            "/usr/local/lib/python3.7/dist-packages/sklearn/linear_model/_base.py:145: FutureWarning: 'normalize' was deprecated in version 1.0 and will be removed in 1.2.\n",
            "If you wish to scale the data, use Pipeline with a StandardScaler in a preprocessing stage. To reproduce the previous behavior:\n",
            "\n",
            "from sklearn.pipeline import make_pipeline\n",
            "\n",
            "model = make_pipeline(StandardScaler(with_mean=False), LinearRegression())\n",
            "\n",
            "If you wish to pass a sample_weight parameter, you need to pass it as a fit parameter to each step of the pipeline as follows:\n",
            "\n",
            "kwargs = {s[0] + '__sample_weight': sample_weight for s in model.steps}\n",
            "model.fit(X, y, **kwargs)\n",
            "\n",
            "\n",
            "  FutureWarning,\n"
          ]
        }
      ]
    },
    {
      "cell_type": "code",
      "source": [
        "lr = LinearRegression(normalize=False)\n",
        "lr.fit(X_train, y_train)\n",
        "yhat = lr.predict(X_test)\n",
        "print(f'Score: {lr.score(X_train, y_train)}')"
      ],
      "metadata": {
        "colab": {
          "base_uri": "https://localhost:8080/"
        },
        "id": "3yPavK1neZIn",
        "outputId": "fed24017-d12b-4ca9-dc60-18b58f3cc7f4"
      },
      "execution_count": 96,
      "outputs": [
        {
          "output_type": "stream",
          "name": "stdout",
          "text": [
            "Score: 0.6931044264652537\n"
          ]
        },
        {
          "output_type": "stream",
          "name": "stderr",
          "text": [
            "/usr/local/lib/python3.7/dist-packages/sklearn/linear_model/_base.py:155: FutureWarning: 'normalize' was deprecated in version 1.0 and will be removed in 1.2. Please leave the normalize parameter to its default value to silence this warning. The default behavior of this estimator is to not do any normalization. If normalization is needed please use sklearn.preprocessing.StandardScaler instead.\n",
            "  FutureWarning,\n"
          ]
        }
      ]
    },
    {
      "cell_type": "markdown",
      "source": [
        "This parameter is ignored when fit_intercept is set to False. If True, the regressors X will be normalized before regression by subtracting the mean and dividing by the l2-norm. If you wish to standardize, please use StandardScaler before calling fit on an estimator with normalize=False."
      ],
      "metadata": {
        "id": "6iVY26l5fB9y"
      }
    },
    {
      "cell_type": "markdown",
      "source": [
        "# Cases\n",
        "Try to predict the rent of the below houses -\n",
        "1. 1 BHK with 2 Baths in Portofino Street\n",
        "2. Fully Furnished 2 BHK in School Street\n",
        "3. Single Room anywhere in Lavasa\n"
      ],
      "metadata": {
        "id": "IuvYD-mhrlCA"
      }
    },
    {
      "cell_type": "markdown",
      "source": [
        "Cases\n",
        "Try to predict the rent of the below houses -\n",
        "1. 1 BHK with 2 Baths in Portofino Street"
      ],
      "metadata": {
        "id": "cidmq8iZRMTv"
      }
    },
    {
      "cell_type": "code",
      "source": [
        "data_transformed_df = pd.DataFrame(data_transformed)"
      ],
      "metadata": {
        "id": "GKR0wKnRWUEa"
      },
      "execution_count": 199,
      "outputs": []
    },
    {
      "cell_type": "code",
      "source": [
        "values = [random.choice(data_transformed_df[i]) for i in range(8)]"
      ],
      "metadata": {
        "colab": {
          "base_uri": "https://localhost:8080/"
        },
        "id": "UdNxKDwCgnUG",
        "outputId": "599b18d8-7d16-47aa-a808-2ef0364547d6"
      },
      "execution_count": 210,
      "outputs": [
        {
          "output_type": "execute_result",
          "data": {
            "text/plain": [
              "[0.5555555555555556,\n",
              " 0.3333333333333333,\n",
              " 0.3333333333333333,\n",
              " 0.014873646209386283,\n",
              " 0.1,\n",
              " 0.2,\n",
              " 0.3333333333333333,\n",
              " 0.08429926238145416]"
            ]
          },
          "metadata": {},
          "execution_count": 210
        }
      ]
    },
    {
      "cell_type": "code",
      "source": [
        "values[4] = 0.1\n",
        "values[2] = 0.0"
      ],
      "metadata": {
        "id": "d105fOJMhe3E"
      },
      "execution_count": 212,
      "outputs": []
    },
    {
      "cell_type": "code",
      "source": [
        "gbr.predict([values[:-1]])"
      ],
      "metadata": {
        "colab": {
          "base_uri": "https://localhost:8080/"
        },
        "id": "XzLV1TAxjjRV",
        "outputId": "14272860-4c7c-43ff-bb16-456ad1a4f252"
      },
      "execution_count": 215,
      "outputs": [
        {
          "output_type": "stream",
          "name": "stderr",
          "text": [
            "/usr/local/lib/python3.7/dist-packages/sklearn/base.py:451: UserWarning: X does not have valid feature names, but GradientBoostingRegressor was fitted with feature names\n",
            "  \"X does not have valid feature names, but\"\n"
          ]
        },
        {
          "output_type": "execute_result",
          "data": {
            "text/plain": [
              "array([3621.91138065])"
            ]
          },
          "metadata": {},
          "execution_count": 215
        }
      ]
    },
    {
      "cell_type": "markdown",
      "source": [
        "2. Fully Furnished 2 BHK in School Street"
      ],
      "metadata": {
        "id": "WZfzpAPakLBJ"
      }
    },
    {
      "cell_type": "code",
      "source": [
        "values = [random.choice(data_transformed_df[i]) for i in range(8)]"
      ],
      "metadata": {
        "id": "hfkx87DTmxOV"
      },
      "execution_count": 223,
      "outputs": []
    },
    {
      "cell_type": "code",
      "source": [
        "values[0] = 0.2222222222222222\n",
        "values[2] = 0.2222222222222222"
      ],
      "metadata": {
        "id": "Gu8Dlsqnm22E"
      },
      "execution_count": 224,
      "outputs": []
    },
    {
      "cell_type": "code",
      "source": [
        "gbr.predict([values[:-1]])"
      ],
      "metadata": {
        "colab": {
          "base_uri": "https://localhost:8080/"
        },
        "id": "9bZUCE1tnD8Q",
        "outputId": "12d1c37d-683b-448f-e0cf-5beee3534b89"
      },
      "execution_count": 225,
      "outputs": [
        {
          "output_type": "stream",
          "name": "stderr",
          "text": [
            "/usr/local/lib/python3.7/dist-packages/sklearn/base.py:451: UserWarning: X does not have valid feature names, but GradientBoostingRegressor was fitted with feature names\n",
            "  \"X does not have valid feature names, but\"\n"
          ]
        },
        {
          "output_type": "execute_result",
          "data": {
            "text/plain": [
              "array([11399.57919254])"
            ]
          },
          "metadata": {},
          "execution_count": 225
        }
      ]
    },
    {
      "cell_type": "markdown",
      "source": [
        "\n",
        "3. Single Room anywhere in Lavasa"
      ],
      "metadata": {
        "id": "RKSMLEXvkMI1"
      }
    },
    {
      "cell_type": "code",
      "source": [
        "values = [random.choice(data_transformed_df[i]) for i in range(8)]"
      ],
      "metadata": {
        "id": "1PdYZ12QnIuL"
      },
      "execution_count": 226,
      "outputs": []
    },
    {
      "cell_type": "code",
      "source": [
        "values[2] = 0.1111111111111111"
      ],
      "metadata": {
        "id": "CsE5twtcnKGh"
      },
      "execution_count": 227,
      "outputs": []
    },
    {
      "cell_type": "code",
      "source": [
        "gbr.predict([values[:-1]])"
      ],
      "metadata": {
        "colab": {
          "base_uri": "https://localhost:8080/"
        },
        "id": "7vbDDgfUi-YV",
        "outputId": "5b983eed-82d9-4fbf-9ba8-2a054cd6092d"
      },
      "execution_count": 228,
      "outputs": [
        {
          "output_type": "stream",
          "name": "stderr",
          "text": [
            "/usr/local/lib/python3.7/dist-packages/sklearn/base.py:451: UserWarning: X does not have valid feature names, but GradientBoostingRegressor was fitted with feature names\n",
            "  \"X does not have valid feature names, but\"\n"
          ]
        },
        {
          "output_type": "execute_result",
          "data": {
            "text/plain": [
              "array([11399.57919254])"
            ]
          },
          "metadata": {},
          "execution_count": 228
        }
      ]
    }
  ]
}
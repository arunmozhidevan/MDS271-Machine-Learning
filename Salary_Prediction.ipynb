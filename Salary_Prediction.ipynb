{
  "cells": [
    {
      "cell_type": "markdown",
      "metadata": {
        "id": "view-in-github",
        "colab_type": "text"
      },
      "source": [
        "<a href=\"https://colab.research.google.com/github/arunmozhidevan/MDS271-Machine-Learning/blob/main/Salary_Prediction.ipynb\" target=\"_parent\"><img src=\"https://colab.research.google.com/assets/colab-badge.svg\" alt=\"Open In Colab\"/></a>"
      ]
    },
    {
      "cell_type": "markdown",
      "metadata": {
        "id": "3ZM4H6ek-JaA"
      },
      "source": [
        "**Description**\n",
        "\n",
        "**About Dataset**<br>\n",
        "Extraction was done by Barry Becker from the 1994 Census database.<br><br>\n",
        "Prediction task is to determine whether a person makes over 50K a year.<br><br>\n",
        "\n",
        "**Columns are:**<br>\n",
        "**age**: continuous.<br>\n",
        "**workclass**: Private, Self-emp-not-inc, Self-emp-inc, Federal-gov, Local-gov, State-gov, Without-pay, Never-worked.<br>\n",
        "**fnlwgt**: continuous.<br>\n",
        "**education**: Bachelors, Some-college, 11th, HS-grad, Prof-school, Assoc-acdm, Assoc-voc, 9th, 7th-8th, 12th, Masters, 1st-4th, 10th, Doctorate, 5th-6th, Preschool.<br>\n",
        "**education-num**: continuous.<br>\n",
        "**marital-status**: Married-civ-spouse, Divorced, Never-married, Separated, Widowed, Married-spouse-absent, Married-AF-spouse.<br>\n",
        "**occupation**: Tech-support, Craft-repair, Other-service, Sales, Exec-managerial, Prof-specialty, Handlers-cleaners, Machine-op-inspct, Adm-clerical, Farming-fishing, Transport-moving, Priv-house-serv, Protective-serv, Armed-Forces.<br>\n",
        "**relationship**: Wife, Own-child, Husband, Not-in-family, Other-relative, Unmarried.<br>\n",
        "**race**: White, Asian-Pac-Islander, Amer-Indian-Eskimo, Other, Black.<br>\n",
        "**sex**: Female, Male.<br>\n",
        "**capital-gain**: continuous.<br>\n",
        "**capital-loss**: continuous.<br>\n",
        "**hours-per-week**: continuous.<br>\n",
        "native-country: United-States, Cambodia, England, Puerto-Rico, Canada, Germany, Outlying-US(Guam-USVI-etc), India, Japan, Greece, South, China, Cuba, Iran, Honduras, Philippines, Italy, Poland, Jamaica, Vietnam, Mexico, Portugal, Ireland, France, Dominican-Republic, Laos, Ecuador, Taiwan, Haiti, Columbia, Hungary, Guatemala, Nicaragua, Scotland, Thailand, Yugoslavia, El-Salvador, Trinadad&Tobago, Peru, Hong, Holand-Netherlands.<br>\n",
        "**salary**: <=50K or >50K"
      ]
    },
    {
      "cell_type": "markdown",
      "source": [
        "# Install packages"
      ],
      "metadata": {
        "id": "Z1NWi1FxyvwP"
      }
    },
    {
      "cell_type": "code",
      "execution_count": null,
      "metadata": {
        "colab": {
          "base_uri": "https://localhost:8080/"
        },
        "id": "wwZ_bsur9AKq",
        "outputId": "dc3939a4-fa63-4e80-dac9-3024a8b59c5c"
      },
      "outputs": [
        {
          "output_type": "stream",
          "name": "stdout",
          "text": [
            "Looking in indexes: https://pypi.org/simple, https://us-python.pkg.dev/colab-wheels/public/simple/\n",
            "Collecting opendatasets\n",
            "  Downloading opendatasets-0.1.22-py3-none-any.whl (15 kB)\n",
            "Requirement already satisfied: tqdm in /usr/local/lib/python3.7/dist-packages (from opendatasets) (4.64.0)\n",
            "Requirement already satisfied: click in /usr/local/lib/python3.7/dist-packages (from opendatasets) (7.1.2)\n",
            "Requirement already satisfied: kaggle in /usr/local/lib/python3.7/dist-packages (from opendatasets) (1.5.12)\n",
            "Requirement already satisfied: certifi in /usr/local/lib/python3.7/dist-packages (from kaggle->opendatasets) (2022.5.18.1)\n",
            "Requirement already satisfied: python-dateutil in /usr/local/lib/python3.7/dist-packages (from kaggle->opendatasets) (2.8.2)\n",
            "Requirement already satisfied: requests in /usr/local/lib/python3.7/dist-packages (from kaggle->opendatasets) (2.23.0)\n",
            "Requirement already satisfied: six>=1.10 in /usr/local/lib/python3.7/dist-packages (from kaggle->opendatasets) (1.15.0)\n",
            "Requirement already satisfied: urllib3 in /usr/local/lib/python3.7/dist-packages (from kaggle->opendatasets) (1.24.3)\n",
            "Requirement already satisfied: python-slugify in /usr/local/lib/python3.7/dist-packages (from kaggle->opendatasets) (6.1.2)\n",
            "Requirement already satisfied: text-unidecode>=1.3 in /usr/local/lib/python3.7/dist-packages (from python-slugify->kaggle->opendatasets) (1.3)\n",
            "Requirement already satisfied: chardet<4,>=3.0.2 in /usr/local/lib/python3.7/dist-packages (from requests->kaggle->opendatasets) (3.0.4)\n",
            "Requirement already satisfied: idna<3,>=2.5 in /usr/local/lib/python3.7/dist-packages (from requests->kaggle->opendatasets) (2.10)\n",
            "Installing collected packages: opendatasets\n",
            "Successfully installed opendatasets-0.1.22\n"
          ]
        }
      ],
      "source": [
        "!pip install opendatasets"
      ]
    },
    {
      "cell_type": "markdown",
      "source": [
        "# Import Packages"
      ],
      "metadata": {
        "id": "KGKFHerhy4LL"
      }
    },
    {
      "cell_type": "code",
      "execution_count": null,
      "metadata": {
        "id": "ClSWYf8L_Ysb"
      },
      "outputs": [],
      "source": [
        "import opendatasets as od\n",
        "import seaborn as sns\n",
        "import matplotlib.pyplot as plt\n",
        "import missingno as mo\n",
        "import pandas as pd\n",
        "import numpy as np\n",
        "from sklearn.preprocessing import LabelEncoder\n",
        "from sklearn.model_selection import train_test_split\n",
        "from statsmodels.stats.outliers_influence import variance_inflation_factor\n",
        "from sklearn.linear_model import LogisticRegression\n",
        "from sklearn.model_selection import cross_val_score\n",
        "from sklearn.metrics import confusion_matrix, accuracy_score, f1_score\n",
        "from sklearn.model_selection import RandomizedSearchCV\n",
        "from sklearn.preprocessing import StandardScaler\n",
        "from sklearn.naive_bayes import GaussianNB\n",
        "from sklearn.svm import SVC\n",
        "from sklearn.neighbors import KNeighborsClassifier\n",
        "from sklearn.ensemble import AdaBoostClassifier, BaggingClassifier, ExtraTreesClassifier, GradientBoostingClassifier, HistGradientBoostingClassifier, RandomForestClassifier\n",
        "import pickle"
      ]
    },
    {
      "cell_type": "code",
      "execution_count": null,
      "metadata": {
        "colab": {
          "base_uri": "https://localhost:8080/"
        },
        "id": "bM2FZD0n_dK-",
        "outputId": "3fc5b703-7a35-4b5a-99ab-908d9f0722fd"
      },
      "outputs": [
        {
          "output_type": "stream",
          "name": "stdout",
          "text": [
            "Please provide your Kaggle credentials to download this dataset. Learn more: http://bit.ly/kaggle-creds\n",
            "Your Kaggle username: arunmozhidevan\n",
            "Your Kaggle Key: ··········\n",
            "Downloading salary-prediction-classification.zip to ./salary-prediction-classification\n"
          ]
        },
        {
          "output_type": "stream",
          "name": "stderr",
          "text": [
            "100%|██████████| 460k/460k [00:00<00:00, 39.5MB/s]"
          ]
        },
        {
          "output_type": "stream",
          "name": "stdout",
          "text": [
            "\n"
          ]
        },
        {
          "output_type": "stream",
          "name": "stderr",
          "text": [
            "\n"
          ]
        }
      ],
      "source": [
        "od.download(\"https://www.kaggle.com/datasets/ayessa/salary-prediction-classification\")"
      ]
    },
    {
      "cell_type": "markdown",
      "source": [
        "Downloading dataset from kaggle using user and key"
      ],
      "metadata": {
        "id": "Tmohgf-Gy9xP"
      }
    },
    {
      "cell_type": "markdown",
      "source": [
        "# Importing dataset"
      ],
      "metadata": {
        "id": "UL3vvKbSzC1a"
      }
    },
    {
      "cell_type": "code",
      "execution_count": null,
      "metadata": {
        "id": "oAroUriZAn1z"
      },
      "outputs": [],
      "source": [
        "data = pd.read_csv('/content/salary-prediction-classification/salary.csv')"
      ]
    },
    {
      "cell_type": "code",
      "execution_count": null,
      "metadata": {
        "colab": {
          "base_uri": "https://localhost:8080/",
          "height": 206
        },
        "id": "LY_p87jZArcU",
        "outputId": "102ae5b0-353a-451d-d44a-ae6fff108e52"
      },
      "outputs": [
        {
          "output_type": "execute_result",
          "data": {
            "text/plain": [
              "   age          workclass  fnlwgt   education  education-num  \\\n",
              "0   39          State-gov   77516   Bachelors             13   \n",
              "1   50   Self-emp-not-inc   83311   Bachelors             13   \n",
              "2   38            Private  215646     HS-grad              9   \n",
              "3   53            Private  234721        11th              7   \n",
              "4   28            Private  338409   Bachelors             13   \n",
              "\n",
              "        marital-status          occupation    relationship    race      sex  \\\n",
              "0        Never-married        Adm-clerical   Not-in-family   White     Male   \n",
              "1   Married-civ-spouse     Exec-managerial         Husband   White     Male   \n",
              "2             Divorced   Handlers-cleaners   Not-in-family   White     Male   \n",
              "3   Married-civ-spouse   Handlers-cleaners         Husband   Black     Male   \n",
              "4   Married-civ-spouse      Prof-specialty            Wife   Black   Female   \n",
              "\n",
              "   capital-gain  capital-loss  hours-per-week  native-country  salary  \n",
              "0          2174             0              40   United-States   <=50K  \n",
              "1             0             0              13   United-States   <=50K  \n",
              "2             0             0              40   United-States   <=50K  \n",
              "3             0             0              40   United-States   <=50K  \n",
              "4             0             0              40            Cuba   <=50K  "
            ],
            "text/html": [
              "\n",
              "  <div id=\"df-7eab4da4-47b2-4784-8bcb-9bb5c1331342\">\n",
              "    <div class=\"colab-df-container\">\n",
              "      <div>\n",
              "<style scoped>\n",
              "    .dataframe tbody tr th:only-of-type {\n",
              "        vertical-align: middle;\n",
              "    }\n",
              "\n",
              "    .dataframe tbody tr th {\n",
              "        vertical-align: top;\n",
              "    }\n",
              "\n",
              "    .dataframe thead th {\n",
              "        text-align: right;\n",
              "    }\n",
              "</style>\n",
              "<table border=\"1\" class=\"dataframe\">\n",
              "  <thead>\n",
              "    <tr style=\"text-align: right;\">\n",
              "      <th></th>\n",
              "      <th>age</th>\n",
              "      <th>workclass</th>\n",
              "      <th>fnlwgt</th>\n",
              "      <th>education</th>\n",
              "      <th>education-num</th>\n",
              "      <th>marital-status</th>\n",
              "      <th>occupation</th>\n",
              "      <th>relationship</th>\n",
              "      <th>race</th>\n",
              "      <th>sex</th>\n",
              "      <th>capital-gain</th>\n",
              "      <th>capital-loss</th>\n",
              "      <th>hours-per-week</th>\n",
              "      <th>native-country</th>\n",
              "      <th>salary</th>\n",
              "    </tr>\n",
              "  </thead>\n",
              "  <tbody>\n",
              "    <tr>\n",
              "      <th>0</th>\n",
              "      <td>39</td>\n",
              "      <td>State-gov</td>\n",
              "      <td>77516</td>\n",
              "      <td>Bachelors</td>\n",
              "      <td>13</td>\n",
              "      <td>Never-married</td>\n",
              "      <td>Adm-clerical</td>\n",
              "      <td>Not-in-family</td>\n",
              "      <td>White</td>\n",
              "      <td>Male</td>\n",
              "      <td>2174</td>\n",
              "      <td>0</td>\n",
              "      <td>40</td>\n",
              "      <td>United-States</td>\n",
              "      <td>&lt;=50K</td>\n",
              "    </tr>\n",
              "    <tr>\n",
              "      <th>1</th>\n",
              "      <td>50</td>\n",
              "      <td>Self-emp-not-inc</td>\n",
              "      <td>83311</td>\n",
              "      <td>Bachelors</td>\n",
              "      <td>13</td>\n",
              "      <td>Married-civ-spouse</td>\n",
              "      <td>Exec-managerial</td>\n",
              "      <td>Husband</td>\n",
              "      <td>White</td>\n",
              "      <td>Male</td>\n",
              "      <td>0</td>\n",
              "      <td>0</td>\n",
              "      <td>13</td>\n",
              "      <td>United-States</td>\n",
              "      <td>&lt;=50K</td>\n",
              "    </tr>\n",
              "    <tr>\n",
              "      <th>2</th>\n",
              "      <td>38</td>\n",
              "      <td>Private</td>\n",
              "      <td>215646</td>\n",
              "      <td>HS-grad</td>\n",
              "      <td>9</td>\n",
              "      <td>Divorced</td>\n",
              "      <td>Handlers-cleaners</td>\n",
              "      <td>Not-in-family</td>\n",
              "      <td>White</td>\n",
              "      <td>Male</td>\n",
              "      <td>0</td>\n",
              "      <td>0</td>\n",
              "      <td>40</td>\n",
              "      <td>United-States</td>\n",
              "      <td>&lt;=50K</td>\n",
              "    </tr>\n",
              "    <tr>\n",
              "      <th>3</th>\n",
              "      <td>53</td>\n",
              "      <td>Private</td>\n",
              "      <td>234721</td>\n",
              "      <td>11th</td>\n",
              "      <td>7</td>\n",
              "      <td>Married-civ-spouse</td>\n",
              "      <td>Handlers-cleaners</td>\n",
              "      <td>Husband</td>\n",
              "      <td>Black</td>\n",
              "      <td>Male</td>\n",
              "      <td>0</td>\n",
              "      <td>0</td>\n",
              "      <td>40</td>\n",
              "      <td>United-States</td>\n",
              "      <td>&lt;=50K</td>\n",
              "    </tr>\n",
              "    <tr>\n",
              "      <th>4</th>\n",
              "      <td>28</td>\n",
              "      <td>Private</td>\n",
              "      <td>338409</td>\n",
              "      <td>Bachelors</td>\n",
              "      <td>13</td>\n",
              "      <td>Married-civ-spouse</td>\n",
              "      <td>Prof-specialty</td>\n",
              "      <td>Wife</td>\n",
              "      <td>Black</td>\n",
              "      <td>Female</td>\n",
              "      <td>0</td>\n",
              "      <td>0</td>\n",
              "      <td>40</td>\n",
              "      <td>Cuba</td>\n",
              "      <td>&lt;=50K</td>\n",
              "    </tr>\n",
              "  </tbody>\n",
              "</table>\n",
              "</div>\n",
              "      <button class=\"colab-df-convert\" onclick=\"convertToInteractive('df-7eab4da4-47b2-4784-8bcb-9bb5c1331342')\"\n",
              "              title=\"Convert this dataframe to an interactive table.\"\n",
              "              style=\"display:none;\">\n",
              "        \n",
              "  <svg xmlns=\"http://www.w3.org/2000/svg\" height=\"24px\"viewBox=\"0 0 24 24\"\n",
              "       width=\"24px\">\n",
              "    <path d=\"M0 0h24v24H0V0z\" fill=\"none\"/>\n",
              "    <path d=\"M18.56 5.44l.94 2.06.94-2.06 2.06-.94-2.06-.94-.94-2.06-.94 2.06-2.06.94zm-11 1L8.5 8.5l.94-2.06 2.06-.94-2.06-.94L8.5 2.5l-.94 2.06-2.06.94zm10 10l.94 2.06.94-2.06 2.06-.94-2.06-.94-.94-2.06-.94 2.06-2.06.94z\"/><path d=\"M17.41 7.96l-1.37-1.37c-.4-.4-.92-.59-1.43-.59-.52 0-1.04.2-1.43.59L10.3 9.45l-7.72 7.72c-.78.78-.78 2.05 0 2.83L4 21.41c.39.39.9.59 1.41.59.51 0 1.02-.2 1.41-.59l7.78-7.78 2.81-2.81c.8-.78.8-2.07 0-2.86zM5.41 20L4 18.59l7.72-7.72 1.47 1.35L5.41 20z\"/>\n",
              "  </svg>\n",
              "      </button>\n",
              "      \n",
              "  <style>\n",
              "    .colab-df-container {\n",
              "      display:flex;\n",
              "      flex-wrap:wrap;\n",
              "      gap: 12px;\n",
              "    }\n",
              "\n",
              "    .colab-df-convert {\n",
              "      background-color: #E8F0FE;\n",
              "      border: none;\n",
              "      border-radius: 50%;\n",
              "      cursor: pointer;\n",
              "      display: none;\n",
              "      fill: #1967D2;\n",
              "      height: 32px;\n",
              "      padding: 0 0 0 0;\n",
              "      width: 32px;\n",
              "    }\n",
              "\n",
              "    .colab-df-convert:hover {\n",
              "      background-color: #E2EBFA;\n",
              "      box-shadow: 0px 1px 2px rgba(60, 64, 67, 0.3), 0px 1px 3px 1px rgba(60, 64, 67, 0.15);\n",
              "      fill: #174EA6;\n",
              "    }\n",
              "\n",
              "    [theme=dark] .colab-df-convert {\n",
              "      background-color: #3B4455;\n",
              "      fill: #D2E3FC;\n",
              "    }\n",
              "\n",
              "    [theme=dark] .colab-df-convert:hover {\n",
              "      background-color: #434B5C;\n",
              "      box-shadow: 0px 1px 3px 1px rgba(0, 0, 0, 0.15);\n",
              "      filter: drop-shadow(0px 1px 2px rgba(0, 0, 0, 0.3));\n",
              "      fill: #FFFFFF;\n",
              "    }\n",
              "  </style>\n",
              "\n",
              "      <script>\n",
              "        const buttonEl =\n",
              "          document.querySelector('#df-7eab4da4-47b2-4784-8bcb-9bb5c1331342 button.colab-df-convert');\n",
              "        buttonEl.style.display =\n",
              "          google.colab.kernel.accessAllowed ? 'block' : 'none';\n",
              "\n",
              "        async function convertToInteractive(key) {\n",
              "          const element = document.querySelector('#df-7eab4da4-47b2-4784-8bcb-9bb5c1331342');\n",
              "          const dataTable =\n",
              "            await google.colab.kernel.invokeFunction('convertToInteractive',\n",
              "                                                     [key], {});\n",
              "          if (!dataTable) return;\n",
              "\n",
              "          const docLinkHtml = 'Like what you see? Visit the ' +\n",
              "            '<a target=\"_blank\" href=https://colab.research.google.com/notebooks/data_table.ipynb>data table notebook</a>'\n",
              "            + ' to learn more about interactive tables.';\n",
              "          element.innerHTML = '';\n",
              "          dataTable['output_type'] = 'display_data';\n",
              "          await google.colab.output.renderOutput(dataTable, element);\n",
              "          const docLink = document.createElement('div');\n",
              "          docLink.innerHTML = docLinkHtml;\n",
              "          element.appendChild(docLink);\n",
              "        }\n",
              "      </script>\n",
              "    </div>\n",
              "  </div>\n",
              "  "
            ]
          },
          "metadata": {},
          "execution_count": 9
        }
      ],
      "source": [
        "data.head()"
      ]
    },
    {
      "cell_type": "code",
      "source": [
        "data.columns"
      ],
      "metadata": {
        "colab": {
          "base_uri": "https://localhost:8080/"
        },
        "id": "hT5-xnZgnoJ4",
        "outputId": "8a965c12-df48-4c38-d68b-00c2e4cb4da8"
      },
      "execution_count": null,
      "outputs": [
        {
          "output_type": "execute_result",
          "data": {
            "text/plain": [
              "Index(['age', 'workclass', 'education', 'marital-status', 'occupation',\n",
              "       'relationship', 'sex', 'capital-gain', 'capital-loss', 'salary'],\n",
              "      dtype='object')"
            ]
          },
          "metadata": {},
          "execution_count": 149
        }
      ]
    },
    {
      "cell_type": "markdown",
      "source": [
        "Seeing all the columns"
      ],
      "metadata": {
        "id": "BBO_9Sf_zsgB"
      }
    },
    {
      "cell_type": "code",
      "source": [
        "data.select_dtypes('int').columns"
      ],
      "metadata": {
        "colab": {
          "base_uri": "https://localhost:8080/"
        },
        "id": "ttuebFiFntdi",
        "outputId": "ddcb4369-5c5b-44c7-c5ea-33583eb8ab92"
      },
      "execution_count": null,
      "outputs": [
        {
          "output_type": "execute_result",
          "data": {
            "text/plain": [
              "Index(['age', 'capital-gain', 'capital-loss'], dtype='object')"
            ]
          },
          "metadata": {},
          "execution_count": 151
        }
      ]
    },
    {
      "cell_type": "markdown",
      "source": [
        "Selecting only integer colums"
      ],
      "metadata": {
        "id": "McJFlgxKzk1v"
      }
    },
    {
      "cell_type": "code",
      "source": [
        "temp = data.select_dtypes('object')\n",
        "temp.columns"
      ],
      "metadata": {
        "colab": {
          "base_uri": "https://localhost:8080/"
        },
        "id": "O1nKuq54SNDW",
        "outputId": "3a319617-d4c2-421b-832d-19e9ff1c97cb"
      },
      "execution_count": null,
      "outputs": [
        {
          "output_type": "execute_result",
          "data": {
            "text/plain": [
              "Index(['workclass', 'education', 'marital-status', 'occupation',\n",
              "       'relationship', 'sex', 'salary'],\n",
              "      dtype='object')"
            ]
          },
          "metadata": {},
          "execution_count": 147
        }
      ]
    },
    {
      "cell_type": "markdown",
      "source": [
        "Selecting only object colums"
      ],
      "metadata": {
        "id": "pZobVihBzvmQ"
      }
    },
    {
      "cell_type": "code",
      "source": [
        "for i in temp.columns:\n",
        "  print(i,sorted(temp[i].unique()))"
      ],
      "metadata": {
        "colab": {
          "base_uri": "https://localhost:8080/"
        },
        "id": "j_IawkfzR139",
        "outputId": "5cd03b04-ff75-4c39-ff15-f759dfa730c5"
      },
      "execution_count": null,
      "outputs": [
        {
          "output_type": "stream",
          "name": "stdout",
          "text": [
            "workclass [' ?', ' Federal-gov', ' Local-gov', ' Never-worked', ' Private', ' Self-emp-inc', ' Self-emp-not-inc', ' State-gov', ' Without-pay']\n",
            "education [' 10th', ' 11th', ' 12th', ' 1st-4th', ' 5th-6th', ' 7th-8th', ' 9th', ' Assoc-acdm', ' Assoc-voc', ' Bachelors', ' Doctorate', ' HS-grad', ' Masters', ' Preschool', ' Prof-school', ' Some-college']\n",
            "marital-status [' Divorced', ' Married-AF-spouse', ' Married-civ-spouse', ' Married-spouse-absent', ' Never-married', ' Separated', ' Widowed']\n",
            "occupation [' ?', ' Adm-clerical', ' Armed-Forces', ' Craft-repair', ' Exec-managerial', ' Farming-fishing', ' Handlers-cleaners', ' Machine-op-inspct', ' Other-service', ' Priv-house-serv', ' Prof-specialty', ' Protective-serv', ' Sales', ' Tech-support', ' Transport-moving']\n",
            "relationship [' Husband', ' Not-in-family', ' Other-relative', ' Own-child', ' Unmarried', ' Wife']\n",
            "sex [' Female', ' Male']\n",
            "salary [' <=50K', ' >50K']\n"
          ]
        }
      ]
    },
    {
      "cell_type": "code",
      "execution_count": null,
      "metadata": {
        "colab": {
          "base_uri": "https://localhost:8080/",
          "height": 300
        },
        "id": "kPdRKFhXR0nL",
        "outputId": "ac0832d9-36e0-4ad9-a789-9a3387443242"
      },
      "outputs": [
        {
          "output_type": "execute_result",
          "data": {
            "text/plain": [
              "                age        fnlwgt  education-num  capital-gain  capital-loss  \\\n",
              "count  32561.000000  3.256100e+04   32561.000000  32561.000000  32561.000000   \n",
              "mean      38.581647  1.897784e+05      10.080679   1077.648844     87.303830   \n",
              "std       13.640433  1.055500e+05       2.572720   7385.292085    402.960219   \n",
              "min       17.000000  1.228500e+04       1.000000      0.000000      0.000000   \n",
              "25%       28.000000  1.178270e+05       9.000000      0.000000      0.000000   \n",
              "50%       37.000000  1.783560e+05      10.000000      0.000000      0.000000   \n",
              "75%       48.000000  2.370510e+05      12.000000      0.000000      0.000000   \n",
              "max       90.000000  1.484705e+06      16.000000  99999.000000   4356.000000   \n",
              "\n",
              "       hours-per-week  \n",
              "count    32561.000000  \n",
              "mean        40.437456  \n",
              "std         12.347429  \n",
              "min          1.000000  \n",
              "25%         40.000000  \n",
              "50%         40.000000  \n",
              "75%         45.000000  \n",
              "max         99.000000  "
            ],
            "text/html": [
              "\n",
              "  <div id=\"df-8c05a128-e156-471c-8900-b290313df80b\">\n",
              "    <div class=\"colab-df-container\">\n",
              "      <div>\n",
              "<style scoped>\n",
              "    .dataframe tbody tr th:only-of-type {\n",
              "        vertical-align: middle;\n",
              "    }\n",
              "\n",
              "    .dataframe tbody tr th {\n",
              "        vertical-align: top;\n",
              "    }\n",
              "\n",
              "    .dataframe thead th {\n",
              "        text-align: right;\n",
              "    }\n",
              "</style>\n",
              "<table border=\"1\" class=\"dataframe\">\n",
              "  <thead>\n",
              "    <tr style=\"text-align: right;\">\n",
              "      <th></th>\n",
              "      <th>age</th>\n",
              "      <th>fnlwgt</th>\n",
              "      <th>education-num</th>\n",
              "      <th>capital-gain</th>\n",
              "      <th>capital-loss</th>\n",
              "      <th>hours-per-week</th>\n",
              "    </tr>\n",
              "  </thead>\n",
              "  <tbody>\n",
              "    <tr>\n",
              "      <th>count</th>\n",
              "      <td>32561.000000</td>\n",
              "      <td>3.256100e+04</td>\n",
              "      <td>32561.000000</td>\n",
              "      <td>32561.000000</td>\n",
              "      <td>32561.000000</td>\n",
              "      <td>32561.000000</td>\n",
              "    </tr>\n",
              "    <tr>\n",
              "      <th>mean</th>\n",
              "      <td>38.581647</td>\n",
              "      <td>1.897784e+05</td>\n",
              "      <td>10.080679</td>\n",
              "      <td>1077.648844</td>\n",
              "      <td>87.303830</td>\n",
              "      <td>40.437456</td>\n",
              "    </tr>\n",
              "    <tr>\n",
              "      <th>std</th>\n",
              "      <td>13.640433</td>\n",
              "      <td>1.055500e+05</td>\n",
              "      <td>2.572720</td>\n",
              "      <td>7385.292085</td>\n",
              "      <td>402.960219</td>\n",
              "      <td>12.347429</td>\n",
              "    </tr>\n",
              "    <tr>\n",
              "      <th>min</th>\n",
              "      <td>17.000000</td>\n",
              "      <td>1.228500e+04</td>\n",
              "      <td>1.000000</td>\n",
              "      <td>0.000000</td>\n",
              "      <td>0.000000</td>\n",
              "      <td>1.000000</td>\n",
              "    </tr>\n",
              "    <tr>\n",
              "      <th>25%</th>\n",
              "      <td>28.000000</td>\n",
              "      <td>1.178270e+05</td>\n",
              "      <td>9.000000</td>\n",
              "      <td>0.000000</td>\n",
              "      <td>0.000000</td>\n",
              "      <td>40.000000</td>\n",
              "    </tr>\n",
              "    <tr>\n",
              "      <th>50%</th>\n",
              "      <td>37.000000</td>\n",
              "      <td>1.783560e+05</td>\n",
              "      <td>10.000000</td>\n",
              "      <td>0.000000</td>\n",
              "      <td>0.000000</td>\n",
              "      <td>40.000000</td>\n",
              "    </tr>\n",
              "    <tr>\n",
              "      <th>75%</th>\n",
              "      <td>48.000000</td>\n",
              "      <td>2.370510e+05</td>\n",
              "      <td>12.000000</td>\n",
              "      <td>0.000000</td>\n",
              "      <td>0.000000</td>\n",
              "      <td>45.000000</td>\n",
              "    </tr>\n",
              "    <tr>\n",
              "      <th>max</th>\n",
              "      <td>90.000000</td>\n",
              "      <td>1.484705e+06</td>\n",
              "      <td>16.000000</td>\n",
              "      <td>99999.000000</td>\n",
              "      <td>4356.000000</td>\n",
              "      <td>99.000000</td>\n",
              "    </tr>\n",
              "  </tbody>\n",
              "</table>\n",
              "</div>\n",
              "      <button class=\"colab-df-convert\" onclick=\"convertToInteractive('df-8c05a128-e156-471c-8900-b290313df80b')\"\n",
              "              title=\"Convert this dataframe to an interactive table.\"\n",
              "              style=\"display:none;\">\n",
              "        \n",
              "  <svg xmlns=\"http://www.w3.org/2000/svg\" height=\"24px\"viewBox=\"0 0 24 24\"\n",
              "       width=\"24px\">\n",
              "    <path d=\"M0 0h24v24H0V0z\" fill=\"none\"/>\n",
              "    <path d=\"M18.56 5.44l.94 2.06.94-2.06 2.06-.94-2.06-.94-.94-2.06-.94 2.06-2.06.94zm-11 1L8.5 8.5l.94-2.06 2.06-.94-2.06-.94L8.5 2.5l-.94 2.06-2.06.94zm10 10l.94 2.06.94-2.06 2.06-.94-2.06-.94-.94-2.06-.94 2.06-2.06.94z\"/><path d=\"M17.41 7.96l-1.37-1.37c-.4-.4-.92-.59-1.43-.59-.52 0-1.04.2-1.43.59L10.3 9.45l-7.72 7.72c-.78.78-.78 2.05 0 2.83L4 21.41c.39.39.9.59 1.41.59.51 0 1.02-.2 1.41-.59l7.78-7.78 2.81-2.81c.8-.78.8-2.07 0-2.86zM5.41 20L4 18.59l7.72-7.72 1.47 1.35L5.41 20z\"/>\n",
              "  </svg>\n",
              "      </button>\n",
              "      \n",
              "  <style>\n",
              "    .colab-df-container {\n",
              "      display:flex;\n",
              "      flex-wrap:wrap;\n",
              "      gap: 12px;\n",
              "    }\n",
              "\n",
              "    .colab-df-convert {\n",
              "      background-color: #E8F0FE;\n",
              "      border: none;\n",
              "      border-radius: 50%;\n",
              "      cursor: pointer;\n",
              "      display: none;\n",
              "      fill: #1967D2;\n",
              "      height: 32px;\n",
              "      padding: 0 0 0 0;\n",
              "      width: 32px;\n",
              "    }\n",
              "\n",
              "    .colab-df-convert:hover {\n",
              "      background-color: #E2EBFA;\n",
              "      box-shadow: 0px 1px 2px rgba(60, 64, 67, 0.3), 0px 1px 3px 1px rgba(60, 64, 67, 0.15);\n",
              "      fill: #174EA6;\n",
              "    }\n",
              "\n",
              "    [theme=dark] .colab-df-convert {\n",
              "      background-color: #3B4455;\n",
              "      fill: #D2E3FC;\n",
              "    }\n",
              "\n",
              "    [theme=dark] .colab-df-convert:hover {\n",
              "      background-color: #434B5C;\n",
              "      box-shadow: 0px 1px 3px 1px rgba(0, 0, 0, 0.15);\n",
              "      filter: drop-shadow(0px 1px 2px rgba(0, 0, 0, 0.3));\n",
              "      fill: #FFFFFF;\n",
              "    }\n",
              "  </style>\n",
              "\n",
              "      <script>\n",
              "        const buttonEl =\n",
              "          document.querySelector('#df-8c05a128-e156-471c-8900-b290313df80b button.colab-df-convert');\n",
              "        buttonEl.style.display =\n",
              "          google.colab.kernel.accessAllowed ? 'block' : 'none';\n",
              "\n",
              "        async function convertToInteractive(key) {\n",
              "          const element = document.querySelector('#df-8c05a128-e156-471c-8900-b290313df80b');\n",
              "          const dataTable =\n",
              "            await google.colab.kernel.invokeFunction('convertToInteractive',\n",
              "                                                     [key], {});\n",
              "          if (!dataTable) return;\n",
              "\n",
              "          const docLinkHtml = 'Like what you see? Visit the ' +\n",
              "            '<a target=\"_blank\" href=https://colab.research.google.com/notebooks/data_table.ipynb>data table notebook</a>'\n",
              "            + ' to learn more about interactive tables.';\n",
              "          element.innerHTML = '';\n",
              "          dataTable['output_type'] = 'display_data';\n",
              "          await google.colab.output.renderOutput(dataTable, element);\n",
              "          const docLink = document.createElement('div');\n",
              "          docLink.innerHTML = docLinkHtml;\n",
              "          element.appendChild(docLink);\n",
              "        }\n",
              "      </script>\n",
              "    </div>\n",
              "  </div>\n",
              "  "
            ]
          },
          "metadata": {},
          "execution_count": 10
        }
      ],
      "source": [
        "data.describe()"
      ]
    },
    {
      "cell_type": "markdown",
      "source": [
        "Description of our dataset"
      ],
      "metadata": {
        "id": "OWeA4TaDz29J"
      }
    },
    {
      "cell_type": "code",
      "execution_count": null,
      "metadata": {
        "id": "HeWO0OL3IDbw"
      },
      "outputs": [],
      "source": [
        "data.replace(' ?',np.nan, inplace=True)"
      ]
    },
    {
      "cell_type": "markdown",
      "source": [
        "replacing '?' as nan"
      ],
      "metadata": {
        "id": "JvJOrkz9z_90"
      }
    },
    {
      "cell_type": "code",
      "execution_count": null,
      "metadata": {
        "colab": {
          "base_uri": "https://localhost:8080/",
          "height": 751
        },
        "id": "-hgW1nGjIhm8",
        "outputId": "04c3b83a-3f3c-4105-942b-f782b31720f5"
      },
      "outputs": [
        {
          "output_type": "execute_result",
          "data": {
            "text/plain": [
              "<matplotlib.axes._subplots.AxesSubplot at 0x7fcf48c65510>"
            ]
          },
          "metadata": {},
          "execution_count": 12
        },
        {
          "output_type": "display_data",
          "data": {
            "text/plain": [
              "<Figure size 1800x720 with 3 Axes>"
            ],
            "image/png": "[encoded data removed]"
          },
          "metadata": {
            "needs_background": "light"
          }
        }
      ],
      "source": [
        "mo.bar(data,sort=\"ascending\")"
      ]
    },
    {
      "cell_type": "markdown",
      "source": [
        "Understanding the missing values using missingno package"
      ],
      "metadata": {
        "id": "uwK7nMly0Dz7"
      }
    },
    {
      "cell_type": "code",
      "execution_count": null,
      "metadata": {
        "colab": {
          "base_uri": "https://localhost:8080/"
        },
        "id": "l2pC0ny4GAav",
        "outputId": "c5b749f3-5a01-4764-bfdd-c5c57c428342"
      },
      "outputs": [
        {
          "output_type": "execute_result",
          "data": {
            "text/plain": [
              "occupation        1843\n",
              "workclass         1836\n",
              "native-country     583\n",
              "age                  0\n",
              "fnlwgt               0\n",
              "education            0\n",
              "education-num        0\n",
              "marital-status       0\n",
              "relationship         0\n",
              "race                 0\n",
              "sex                  0\n",
              "capital-gain         0\n",
              "capital-loss         0\n",
              "hours-per-week       0\n",
              "salary               0\n",
              "dtype: int64"
            ]
          },
          "metadata": {},
          "execution_count": 65
        }
      ],
      "source": [
        "data.isna().sum().sort_values(ascending=False)"
      ]
    },
    {
      "cell_type": "markdown",
      "source": [
        "Counting the NA values present in out dataset"
      ],
      "metadata": {
        "id": "8fXlCPiz0aGM"
      }
    },
    {
      "cell_type": "code",
      "execution_count": null,
      "metadata": {
        "id": "t9uzZqC4Qowh"
      },
      "outputs": [],
      "source": [
        "data.dropna(inplace=True)"
      ]
    },
    {
      "cell_type": "markdown",
      "source": [
        "Dropping all the na values since its only 0.03% present"
      ],
      "metadata": {
        "id": "bNwl4Cff0k7Q"
      }
    },
    {
      "cell_type": "code",
      "execution_count": null,
      "metadata": {
        "id": "b_illq_fSfp1"
      },
      "outputs": [],
      "source": [
        "le = []\n",
        "for i in data.select_dtypes(include='object').columns:\n",
        "  temp = LabelEncoder()\n",
        "  data[i] = temp.fit_transform(data[i])\n",
        "  le.append(temp)"
      ]
    },
    {
      "cell_type": "markdown",
      "source": [
        "Label Encoding is a popular encoding technique for handling categorical variables. In this technique, each label is assigned a unique integer based on alphabetical ordering."
      ],
      "metadata": {
        "id": "XvSXfqiX1HKO"
      }
    },
    {
      "cell_type": "code",
      "source": [
        "le[0].classes_"
      ],
      "metadata": {
        "colab": {
          "base_uri": "https://localhost:8080/"
        },
        "id": "ETSzoqlD7Pwd",
        "outputId": "bf61d974-fd94-4cc0-d8ce-6108532bac43"
      },
      "execution_count": null,
      "outputs": [
        {
          "output_type": "execute_result",
          "data": {
            "text/plain": [
              "array([' ?', ' Federal-gov', ' Local-gov', ' Never-worked', ' Private',\n",
              "       ' Self-emp-inc', ' Self-emp-not-inc', ' State-gov', ' Without-pay'],\n",
              "      dtype=object)"
            ]
          },
          "metadata": {},
          "execution_count": 167
        }
      ]
    },
    {
      "cell_type": "markdown",
      "source": [
        "LabelEncoding orginal values"
      ],
      "metadata": {
        "id": "yptWX5wT1OwB"
      }
    },
    {
      "cell_type": "code",
      "source": [
        "le[0].transform(le[0].classes_)"
      ],
      "metadata": {
        "colab": {
          "base_uri": "https://localhost:8080/"
        },
        "id": "6JH1IslG7RX9",
        "outputId": "7b9003b3-15c2-4d46-af55-3dcbc03ecb58"
      },
      "execution_count": null,
      "outputs": [
        {
          "output_type": "execute_result",
          "data": {
            "text/plain": [
              "array([0, 1, 2, 3, 4, 5, 6, 7, 8])"
            ]
          },
          "metadata": {},
          "execution_count": 169
        }
      ]
    },
    {
      "cell_type": "markdown",
      "source": [
        "LabelEncoding transformed values"
      ],
      "metadata": {
        "id": "FnQVbEEr1ULj"
      }
    },
    {
      "cell_type": "code",
      "source": [
        "sorted([(variance_inflation_factor(data.values, j), i) for i,j in zip(data.columns,range(len(data.columns)))])"
      ],
      "metadata": {
        "colab": {
          "base_uri": "https://localhost:8080/"
        },
        "id": "ArKvN0cMctnY",
        "outputId": "d50bf740-eafa-41ea-ba7e-3505542217b9"
      },
      "execution_count": null,
      "outputs": [
        {
          "output_type": "execute_result",
          "data": {
            "text/plain": [
              "[(1.0773271899440358, 'capital-loss'),\n",
              " (1.0807481376053676, 'capital-gain'),\n",
              " (1.6052262233074241, 'salary'),\n",
              " (2.379843237982945, 'relationship'),\n",
              " (3.5896165042860613, 'occupation'),\n",
              " (3.6865130953681393, 'marital-status'),\n",
              " (3.872357750651173, 'sex'),\n",
              " (6.565196072207119, 'education'),\n",
              " (6.589928722855536, 'age'),\n",
              " (7.544277431439026, 'workclass')]"
            ]
          },
          "metadata": {},
          "execution_count": 141
        }
      ]
    },
    {
      "cell_type": "markdown",
      "source": [
        "Finding the Variance inflation factor, the ratio of the variance of estimating some parameter in a model that includes multiple other terms by the variance of a model constructed using only one term. It quantifies the severity of multicollinearity in an ordinary least squares regression analysis."
      ],
      "metadata": {
        "id": "UTG-n5yZ1gj9"
      }
    },
    {
      "cell_type": "code",
      "source": [
        "data.drop(columns=['native-country', 'education-num', 'race', 'hours-per-week', 'fnlwgt'], inplace=True)"
      ],
      "metadata": {
        "id": "uT-nGR2-Y-4D"
      },
      "execution_count": null,
      "outputs": []
    },
    {
      "cell_type": "markdown",
      "source": [
        "Removing columns having large VIF values"
      ],
      "metadata": {
        "id": "58Gc9GmX1p_c"
      }
    },
    {
      "cell_type": "code",
      "execution_count": null,
      "metadata": {
        "id": "pNJR1vNBVhkD"
      },
      "outputs": [],
      "source": [
        "y = data.iloc[:,-1]\n",
        "X = data.iloc[:,:-1]"
      ]
    },
    {
      "cell_type": "markdown",
      "source": [
        "Assigning Input variables and target variable"
      ],
      "metadata": {
        "id": "HsK627tz1ual"
      }
    },
    {
      "cell_type": "markdown",
      "source": [
        "# Splitting the dataset"
      ],
      "metadata": {
        "id": "mIAIZD2c2J8l"
      }
    },
    {
      "cell_type": "code",
      "execution_count": null,
      "metadata": {
        "id": "txDPmjy-VfbN"
      },
      "outputs": [],
      "source": [
        "X_train, X_test, y_train, y_test = train_test_split(X, y, test_size=0.33, random_state=42)"
      ]
    },
    {
      "cell_type": "markdown",
      "source": [
        "The train-test split is used to estimate the performance of machine learning algorithms that are applicable for prediction-based Algorithms/Applications. This method is a fast and easy procedure to perform such that we can compare our own machine learning model results to machine results."
      ],
      "metadata": {
        "id": "5jT3Dmwr14NM"
      }
    },
    {
      "cell_type": "markdown",
      "source": [
        "# Standardization"
      ],
      "metadata": {
        "id": "QN98Zuk42OOJ"
      }
    },
    {
      "cell_type": "code",
      "execution_count": null,
      "metadata": {
        "id": "KLw68HL_YfA2"
      },
      "outputs": [],
      "source": [
        "ss = StandardScaler()\n",
        "X_train = ss.fit_transform(X_train) \n",
        "X_test = ss.transform(X_test) "
      ]
    },
    {
      "cell_type": "markdown",
      "source": [
        "Standardization or Z-Score Normalization is the transformation of features by subtracting from mean and dividing by standard deviation. This is often called as Z-score."
      ],
      "metadata": {
        "id": "7JqxEjSa2AXD"
      }
    },
    {
      "cell_type": "markdown",
      "source": [
        "# Modelling"
      ],
      "metadata": {
        "id": "Kgm7dKei2Py5"
      }
    },
    {
      "cell_type": "markdown",
      "source": [
        "## Logistic Regression"
      ],
      "metadata": {
        "id": "FA8qdP4e2WKv"
      }
    },
    {
      "cell_type": "code",
      "execution_count": null,
      "metadata": {
        "colab": {
          "base_uri": "https://localhost:8080/"
        },
        "id": "CSMK-8oWXuGo",
        "outputId": "dbcf0e8c-dc65-44cb-8df6-61fef36a94b2"
      },
      "outputs": [
        {
          "output_type": "execute_result",
          "data": {
            "text/plain": [
              "(array([[7912,  284],\n",
              "        [1807,  743]]), 0.8054159687325516, 0.41543192619513564)"
            ]
          },
          "metadata": {},
          "execution_count": 182
        }
      ],
      "source": [
        "lr = LogisticRegression()\n",
        "lr.fit(X_train, y_train)\n",
        "confusion_matrix(y_test, lr.predict(X_test)), accuracy_score(y_test, lr.predict(X_test)), f1_score(y_test, lr.predict(X_test))"
      ]
    },
    {
      "cell_type": "markdown",
      "source": [
        "## Naive Bayes"
      ],
      "metadata": {
        "id": "StTJYAmg2agP"
      }
    },
    {
      "cell_type": "code",
      "execution_count": null,
      "metadata": {
        "colab": {
          "base_uri": "https://localhost:8080/"
        },
        "id": "x5mR99JfAkou",
        "outputId": "fee6d5f1-9225-4a2d-c9e2-91182fda06df"
      },
      "outputs": [
        {
          "name": "stdout",
          "output_type": "stream",
          "text": [
            "Fitting 5 folds for each of 100 candidates, totalling 500 fits\n"
          ]
        },
        {
          "data": {
            "text/plain": [
              "{'var_smoothing': 1e-05}"
            ]
          },
          "execution_count": 100,
          "metadata": {},
          "output_type": "execute_result"
        }
      ],
      "source": [
        "# nb_classifier = GaussianNB()\n",
        "\n",
        "# params_NB = {'var_smoothing': np.logspace(0,-9, num=100)}\n",
        "# gs_NB = GridSearchCV(estimator=nb_classifier, \n",
        "#                  param_grid=params_NB, \n",
        "#                  cv=5,  \n",
        "#                  verbose=1, \n",
        "#                  scoring='accuracy') \n",
        "# gs_NB.fit(X_train, y_train)\n",
        "\n",
        "# gs_NB.best_params_"
      ]
    },
    {
      "cell_type": "code",
      "execution_count": null,
      "metadata": {
        "colab": {
          "base_uri": "https://localhost:8080/"
        },
        "id": "crut84MrBHGL",
        "outputId": "85ee4d72-84c2-4eeb-8bb1-98cb73e60aff"
      },
      "outputs": [
        {
          "data": {
            "text/plain": [
              "(array([[7050,  390],\n",
              "        [1730,  784]]), 0.7870202933494073, 0.42516268980477223)"
            ]
          },
          "execution_count": 99,
          "metadata": {},
          "output_type": "execute_result"
        }
      ],
      "source": [
        "# lr = GaussianNB()\n",
        "# lr.fit(X_train, y_train)\n",
        "# confusion_matrix(y_test, lr.predict(X_test)), accuracy_score(y_test, lr.predict(X_test)), f1_score(y_test, lr.predict(X_test))"
      ]
    },
    {
      "cell_type": "code",
      "execution_count": null,
      "metadata": {
        "colab": {
          "base_uri": "https://localhost:8080/"
        },
        "id": "c5CFPTGIA6Yb",
        "outputId": "bf97acc3-c98b-4163-c994-e27bb9429f6c"
      },
      "outputs": [
        {
          "output_type": "execute_result",
          "data": {
            "text/plain": [
              "(array([[7077,  363],\n",
              "        [1734,  780]]), 0.7893309222423146, 0.42657916324856443)"
            ]
          },
          "metadata": {},
          "execution_count": 101
        }
      ],
      "source": [
        "lr = GaussianNB(var_smoothing=1e-05)\n",
        "lr.fit(X_train, y_train)\n",
        "confusion_matrix(y_test, lr.predict(X_test)), accuracy_score(y_test, lr.predict(X_test)), f1_score(y_test, lr.predict(X_test))"
      ]
    },
    {
      "cell_type": "markdown",
      "source": [
        "## Random Forest "
      ],
      "metadata": {
        "id": "e8g4bvDS2nYf"
      }
    },
    {
      "cell_type": "code",
      "execution_count": null,
      "metadata": {
        "colab": {
          "base_uri": "https://localhost:8080/"
        },
        "id": "Zm39ksGqokfa",
        "outputId": "98a1bc19-cde9-4ca2-b7d7-9112f391d0bf"
      },
      "outputs": [
        {
          "output_type": "execute_result",
          "data": {
            "text/plain": [
              "(array([[6773,  667],\n",
              "        [ 936, 1578]]), 0.8389592123769339, 0.6631645303635217)"
            ]
          },
          "metadata": {},
          "execution_count": 103
        }
      ],
      "source": [
        "lr = RandomForestClassifier()\n",
        "lr.fit(X_train, y_train)\n",
        "confusion_matrix(y_test, lr.predict(X_test)), accuracy_score(y_test, lr.predict(X_test)), f1_score(y_test, lr.predict(X_test))"
      ]
    },
    {
      "cell_type": "markdown",
      "source": [
        "## SVM"
      ],
      "metadata": {
        "id": "5_rJ-JAJ2qe7"
      }
    },
    {
      "cell_type": "code",
      "execution_count": null,
      "metadata": {
        "colab": {
          "base_uri": "https://localhost:8080/"
        },
        "id": "EgriiVhBo2a6",
        "outputId": "326c56c6-6cda-474c-cf93-f3bf630b5b96"
      },
      "outputs": [
        {
          "output_type": "execute_result",
          "data": {
            "text/plain": [
              "(array([[7269,  171],\n",
              "        [1724,  790]]), 0.8096242716495881, 0.4546762589928057)"
            ]
          },
          "metadata": {},
          "execution_count": 105
        }
      ],
      "source": [
        "lr = SVC()\n",
        "lr.fit(X_train, y_train)\n",
        "confusion_matrix(y_test, lr.predict(X_test)), accuracy_score(y_test, lr.predict(X_test)), f1_score(y_test, lr.predict(X_test))"
      ]
    },
    {
      "cell_type": "markdown",
      "source": [
        "## KNeighbors"
      ],
      "metadata": {
        "id": "OYIX243A21LW"
      }
    },
    {
      "cell_type": "code",
      "execution_count": null,
      "metadata": {
        "colab": {
          "base_uri": "https://localhost:8080/"
        },
        "id": "Gh-thlsaqr6N",
        "outputId": "edd93d3c-0ff6-4cf5-a124-7f7502709c9c"
      },
      "outputs": [
        {
          "output_type": "execute_result",
          "data": {
            "text/plain": [
              "(array([[6752,  688],\n",
              "        [ 995, 1519]]), 0.8309222423146474, 0.6435077314128363)"
            ]
          },
          "metadata": {},
          "execution_count": 107
        }
      ],
      "source": [
        "lr = KNeighborsClassifier(n_neighbors=5)\n",
        "lr.fit(X_train, y_train)\n",
        "confusion_matrix(y_test, lr.predict(X_test)), accuracy_score(y_test, lr.predict(X_test)), f1_score(y_test, lr.predict(X_test))"
      ]
    },
    {
      "cell_type": "markdown",
      "source": [
        "## AdaBoost"
      ],
      "metadata": {
        "id": "wdNCQ3RM3KQh"
      }
    },
    {
      "cell_type": "code",
      "execution_count": null,
      "metadata": {
        "colab": {
          "base_uri": "https://localhost:8080/"
        },
        "id": "0FJfWny9uBDX",
        "outputId": "3675114b-9c2f-4882-b056-d9a650cab6ce"
      },
      "outputs": [
        {
          "output_type": "execute_result",
          "data": {
            "text/plain": [
              "(array([[6964,  476],\n",
              "        [ 948, 1566]]), 0.8569419328912999, 0.6874451273046532)"
            ]
          },
          "metadata": {},
          "execution_count": 109
        }
      ],
      "source": [
        "lr = AdaBoostClassifier()\n",
        "lr.fit(X_train, y_train)\n",
        "confusion_matrix(y_test, lr.predict(X_test)), accuracy_score(y_test, lr.predict(X_test)), f1_score(y_test, lr.predict(X_test))"
      ]
    },
    {
      "cell_type": "markdown",
      "source": [
        "## Bagging"
      ],
      "metadata": {
        "id": "u7eNHspW3TEO"
      }
    },
    {
      "cell_type": "code",
      "execution_count": null,
      "metadata": {
        "colab": {
          "base_uri": "https://localhost:8080/"
        },
        "id": "VG9hJNvuvAb5",
        "outputId": "f0bd1de6-cd72-4eef-8a5c-aee51bfb4afb"
      },
      "outputs": [
        {
          "output_type": "execute_result",
          "data": {
            "text/plain": [
              "(array([[6765,  675],\n",
              "        [ 963, 1551]]), 0.8354430379746836, 0.6544303797468354)"
            ]
          },
          "metadata": {},
          "execution_count": 110
        }
      ],
      "source": [
        "lr = BaggingClassifier()\n",
        "lr.fit(X_train, y_train)\n",
        "confusion_matrix(y_test, lr.predict(X_test)), accuracy_score(y_test, lr.predict(X_test)), f1_score(y_test, lr.predict(X_test))"
      ]
    },
    {
      "cell_type": "markdown",
      "source": [
        "## ExtraTrees"
      ],
      "metadata": {
        "id": "TdHm4F0I3WAW"
      }
    },
    {
      "cell_type": "code",
      "execution_count": null,
      "metadata": {
        "colab": {
          "base_uri": "https://localhost:8080/"
        },
        "id": "S4vI4QFmvC6f",
        "outputId": "d9eb0872-25c7-4162-8043-8e406a8ca141"
      },
      "outputs": [
        {
          "output_type": "execute_result",
          "data": {
            "text/plain": [
              "(array([[6785,  655],\n",
              "        [1007, 1507]]), 0.8330319469559976, 0.6445680068434559)"
            ]
          },
          "metadata": {},
          "execution_count": 111
        }
      ],
      "source": [
        "lr = ExtraTreesClassifier()\n",
        "lr.fit(X_train, y_train)\n",
        "confusion_matrix(y_test, lr.predict(X_test)), accuracy_score(y_test, lr.predict(X_test)), f1_score(y_test, lr.predict(X_test))"
      ]
    },
    {
      "cell_type": "markdown",
      "source": [
        "## Gradient Boosting"
      ],
      "metadata": {
        "id": "CfGlgkXZ3a1W"
      }
    },
    {
      "cell_type": "code",
      "execution_count": null,
      "metadata": {
        "colab": {
          "base_uri": "https://localhost:8080/"
        },
        "id": "A-sxPRU9vFir",
        "outputId": "ad3f2aae-3f41-48d0-de33-b21524a6d4fc"
      },
      "outputs": [
        {
          "output_type": "execute_result",
          "data": {
            "text/plain": [
              "(array([[7034,  406],\n",
              "        [ 976, 1538]]), 0.8611613421740004, 0.6899955136832662)"
            ]
          },
          "metadata": {},
          "execution_count": 112
        }
      ],
      "source": [
        "lr = GradientBoostingClassifier()\n",
        "lr.fit(X_train, y_train)\n",
        "confusion_matrix(y_test, lr.predict(X_test)), accuracy_score(y_test, lr.predict(X_test)), f1_score(y_test, lr.predict(X_test))"
      ]
    },
    {
      "cell_type": "markdown",
      "source": [
        "## HistGradient Boosting"
      ],
      "metadata": {
        "id": "8i2ytDn23h-R"
      }
    },
    {
      "cell_type": "code",
      "execution_count": null,
      "metadata": {
        "colab": {
          "base_uri": "https://localhost:8080/"
        },
        "id": "cgm9qd5VvKGB",
        "outputId": "0469d7b2-52d6-4e97-f5f0-905f2f89f0a7"
      },
      "outputs": [
        {
          "output_type": "execute_result",
          "data": {
            "text/plain": [
              "(array([[6993,  447],\n",
              "        [ 874, 1640]]), 0.8672895318464938, 0.7128885024994567)"
            ]
          },
          "metadata": {},
          "execution_count": 154
        }
      ],
      "source": [
        "lr = HistGradientBoostingClassifier(random_state=42)\n",
        "lr.fit(X_train, y_train)\n",
        "confusion_matrix(y_test, lr.predict(X_test)), accuracy_score(y_test, lr.predict(X_test)), f1_score(y_test, lr.predict(X_test))"
      ]
    },
    {
      "cell_type": "markdown",
      "source": [
        "# Hyper parameter tuning"
      ],
      "metadata": {
        "id": "XHVXF3Fy33ML"
      }
    },
    {
      "cell_type": "code",
      "source": [
        "loss = ['auto', 'binary_crossentropy']\n",
        "learning_rate = [float(i*.001) for i in range(1, 500)]\n",
        "max_iter = [int(i) for i in range(1,1001,10)]\n",
        "max_leaf_nodes = [int(i) for i in range(1,1001,10)]\n",
        "max_depth = [int(i) for i in range(1,1001,10)]\n",
        "max_depth.append('None')\n",
        "min_samples_leaf = [int(i) for i in range(1,250,1)]\n",
        "#max_bins should be no smaller than 2 and no larger than 255.\n",
        "max_bins = [int(i) for i in range(2,255,1)]\n",
        "warm_start = [True, False]\n",
        "n_iter_no_change = [int(i) for i in range(1,100,1)]\n",
        "\n",
        "params = {\n",
        "    'loss': loss,\n",
        "    'learning_rate':learning_rate,\n",
        "    'max_bins': max_bins,\n",
        "    'max_depth': max_depth,\n",
        "    'max_iter': max_iter,\n",
        "    'max_leaf_nodes' : max_leaf_nodes,\n",
        "    'min_samples_leaf': min_samples_leaf,\n",
        "    'n_iter_no_change': n_iter_no_change,\n",
        "    'warm_start': warm_start}"
      ],
      "metadata": {
        "id": "4UL21AJlfFxY"
      },
      "execution_count": null,
      "outputs": []
    },
    {
      "cell_type": "code",
      "source": [
        "model_grid_search = RandomizedSearchCV(lr, params, n_jobs=-1, cv=5, n_iter=50)\n",
        "model_grid_search.fit(X_train, y_train)\n",
        "model_grid_search.best_estimator_"
      ],
      "metadata": {
        "colab": {
          "base_uri": "https://localhost:8080/"
        },
        "id": "2dZqEQkVgpFt",
        "outputId": "c6be4a05-e333-47af-e613-0037bcdb6f3a"
      },
      "execution_count": null,
      "outputs": [
        {
          "output_type": "stream",
          "name": "stderr",
          "text": [
            "/usr/local/lib/python3.7/dist-packages/sklearn/model_selection/_validation.py:372: FitFailedWarning: \n",
            "10 fits failed out of a total of 250.\n",
            "The score on these train-test partitions for these parameters will be set to nan.\n",
            "If these failures are not expected, you can try to debug them by setting error_score='raise'.\n",
            "\n",
            "Below are more details about the failures:\n",
            "--------------------------------------------------------------------------------\n",
            "10 fits failed with the following error:\n",
            "Traceback (most recent call last):\n",
            "  File \"/usr/local/lib/python3.7/dist-packages/sklearn/model_selection/_validation.py\", line 680, in _fit_and_score\n",
            "    estimator.fit(X_train, y_train, **fit_params)\n",
            "  File \"/usr/local/lib/python3.7/dist-packages/sklearn/ensemble/_hist_gradient_boosting/gradient_boosting.py\", line 524, in fit\n",
            "    n_threads=n_threads,\n",
            "  File \"/usr/local/lib/python3.7/dist-packages/sklearn/ensemble/_hist_gradient_boosting/grower.py\", line 214, in __init__\n",
            "    min_hessian_to_split,\n",
            "  File \"/usr/local/lib/python3.7/dist-packages/sklearn/ensemble/_hist_gradient_boosting/grower.py\", line 334, in _validate_parameters\n",
            "    if max_depth is not None and max_depth < 1:\n",
            "TypeError: '<' not supported between instances of 'str' and 'int'\n",
            "\n",
            "  warnings.warn(some_fits_failed_message, FitFailedWarning)\n",
            "/usr/local/lib/python3.7/dist-packages/sklearn/model_selection/_search.py:972: UserWarning: One or more of the test scores are non-finite: [0.85921411 0.84996028 0.8583731  0.85847176 0.83694547 0.85253386\n",
            " 0.84466536        nan 0.85787792 0.83457034 0.85936277 0.8237328\n",
            " 0.85738306 0.85847171        nan 0.8435766  0.84887187 0.85025722\n",
            " 0.84986137 0.83669831 0.85357282 0.85575016 0.85342441 0.79206237\n",
            " 0.8502572  0.85782871 0.85733359 0.83560951 0.8552057  0.85377072\n",
            " 0.85401826 0.83343207 0.85530461 0.85881813 0.86505332 0.84471477\n",
            " 0.86638941 0.79042938 0.85406758 0.85659182 0.83976633 0.85896665\n",
            " 0.8603028  0.8441211  0.83130433 0.84491274 0.79275516 0.85020794\n",
            " 0.86366766 0.85124672]\n",
            "  category=UserWarning,\n"
          ]
        },
        {
          "output_type": "execute_result",
          "data": {
            "text/plain": [
              "HistGradientBoostingClassifier(learning_rate=0.228, max_bins=111, max_depth=561,\n",
              "                               max_iter=491, max_leaf_nodes=11,\n",
              "                               min_samples_leaf=10, n_iter_no_change=35,\n",
              "                               random_state=42)"
            ]
          },
          "metadata": {},
          "execution_count": 115
        }
      ]
    },
    {
      "cell_type": "code",
      "source": [
        "lr = HistGradientBoostingClassifier(learning_rate=model_grid_search.best_estimator_.learning_rate, max_bins=model_grid_search.best_estimator_.max_bins, max_depth=model_grid_search.best_estimator_.max_depth, max_iter=model_grid_search.best_estimator_.max_iter,\n",
        "                               max_leaf_nodes=model_grid_search.best_estimator_.max_leaf_nodes, min_samples_leaf=model_grid_search.best_estimator_.min_samples_leaf,\n",
        "                               n_iter_no_change=model_grid_search.best_estimator_.n_iter_no_change, random_state=model_grid_search.best_estimator_.random_state,\n",
        "                               warm_start=True)\n",
        "lr.fit(X_train, y_train)\n",
        "confusion_matrix(y_test, lr.predict(X_test)), accuracy_score(y_test, lr.predict(X_test)), f1_score(y_test, lr.predict(X_test))"
      ],
      "metadata": {
        "colab": {
          "base_uri": "https://localhost:8080/"
        },
        "id": "2-gU8HkOpLMQ",
        "outputId": "d93d2714-e337-40b3-b992-4eefe3fb84dd"
      },
      "execution_count": null,
      "outputs": [
        {
          "output_type": "execute_result",
          "data": {
            "text/plain": [
              "(array([[6971,  469],\n",
              "        [ 919, 1595]]), 0.860558569419329, 0.6968108344255134)"
            ]
          },
          "metadata": {},
          "execution_count": 116
        }
      ]
    },
    {
      "cell_type": "code",
      "execution_count": null,
      "metadata": {
        "colab": {
          "base_uri": "https://localhost:8080/"
        },
        "id": "4wng8blsaidj",
        "outputId": "a3b76312-050e-4b23-cc5f-eceb606bdc42"
      },
      "outputs": [
        {
          "output_type": "execute_result",
          "data": {
            "text/plain": [
              "(array([[7707,  489],\n",
              "        [ 974, 1576]]), 0.863856318630188, 0.6829902491874323)"
            ]
          },
          "metadata": {},
          "execution_count": 184
        }
      ],
      "source": [
        "lr = RandomForestClassifier(bootstrap= False,\n",
        " max_depth= 100,\n",
        " max_features= 'auto',\n",
        " min_samples_leaf= 4,\n",
        " min_samples_split= 2,\n",
        " n_estimators= 2000)\n",
        "lr.fit(X_train, y_train)\n",
        "confusion_matrix(y_test, lr.predict(X_test)), accuracy_score(y_test, lr.predict(X_test)), f1_score(y_test, lr.predict(X_test))"
      ]
    },
    {
      "cell_type": "markdown",
      "source": [
        "# Saving the model"
      ],
      "metadata": {
        "id": "efu5d3t74ImL"
      }
    },
    {
      "cell_type": "code",
      "source": [
        "pickle.dump(lr, open('LogisticRegression.pkl', 'wb'))"
      ],
      "metadata": {
        "id": "wunJMs0pxXF9"
      },
      "execution_count": null,
      "outputs": []
    },
    {
      "cell_type": "markdown",
      "source": [
        "# Loading the model"
      ],
      "metadata": {
        "id": "lTfEHjIo4PKE"
      }
    },
    {
      "cell_type": "code",
      "source": [
        "# loaded_model = pickle.load(open(filename, 'rb'))\n",
        "# result = loaded_model.score(X_test, Y_test)\n",
        "# print(result)"
      ],
      "metadata": {
        "id": "1-bxrZLYxnUP"
      },
      "execution_count": null,
      "outputs": []
    },
    {
      "cell_type": "markdown",
      "source": [
        "# Feature importance"
      ],
      "metadata": {
        "id": "hII8IL3k4c3i"
      }
    },
    {
      "cell_type": "code",
      "source": [
        "sns.barplot(y=X.columns[lr.feature_importances_.argsort()], x=sorted(lr.feature_importances_))\n",
        "plt.xticks(rotation=45)\n",
        "plt.show()"
      ],
      "metadata": {
        "colab": {
          "base_uri": "https://localhost:8080/",
          "height": 278
        },
        "id": "Xp1TvRSW4F80",
        "outputId": "4daae790-a26d-4db2-8caa-6d722d061045"
      },
      "execution_count": null,
      "outputs": [
        {
          "output_type": "display_data",
          "data": {
            "text/plain": [
              "<Figure size 432x288 with 1 Axes>"
            ],
            "image/png": "[encoded data removed]"
          },
          "metadata": {
            "needs_background": "light"
          }
        }
      ]
    },
    {
      "cell_type": "markdown",
      "source": [
        "# Deployed/Website"
      ],
      "metadata": {
        "id": "h1AobrOm4lmD"
      }
    },
    {
      "cell_type": "markdown",
      "source": [
        "https://salarypredicto.herokuapp.com/"
      ],
      "metadata": {
        "id": "cGNkb7bR4pxE"
      }
    },
    {
      "cell_type": "markdown",
      "source": [
        "# Conclusion"
      ],
      "metadata": {
        "id": "sQjrScZj5C7o"
      }
    },
    {
      "cell_type": "markdown",
      "source": [
        "The binary classifier Logestic regression gives 80.5%, but f1 scores gives only 41.5%.\n",
        "HistGradientBoostingClassifier gives 86.72%, but f1 scores gives 71.29% which is a better model comparatively. The webisite is created with random classifer since HistGradientBoostingClassifier is a new algorithum there seems to some issues in sklearn."
      ],
      "metadata": {
        "id": "HGZrhK536T5o"
      }
    }
  ],
  "metadata": {
    "colab": {
      "collapsed_sections": [],
      "name": "Salary Prediction.ipynb",
      "provenance": [],
      "toc_visible": true,
      "authorship_tag": "ABX9TyMyKbarhlbvVIIW8hCxGQ3g",
      "include_colab_link": true
    },
    "kernelspec": {
      "display_name": "Python 3",
      "name": "python3"
    },
    "language_info": {
      "name": "python"
    }
  },
  "nbformat": 4,
  "nbformat_minor": 0
}